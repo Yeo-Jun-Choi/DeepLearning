{
 "cells": [
  {
   "cell_type": "code",
   "execution_count": 14,
   "metadata": {},
   "outputs": [],
   "source": [
    "import tensorflow as tf"
   ]
  },
  {
   "cell_type": "code",
   "execution_count": 15,
   "metadata": {},
   "outputs": [],
   "source": [
    "import matplotlib\n",
    "import sklearn\n",
    "import numpy as np"
   ]
  },
  {
   "cell_type": "code",
   "execution_count": 16,
   "metadata": {},
   "outputs": [],
   "source": [
    "from tensorflow import keras"
   ]
  },
  {
   "cell_type": "code",
   "execution_count": 19,
   "metadata": {},
   "outputs": [],
   "source": [
    "#신경망과 훈련 매개변수\n",
    "EPOCHS = 200\n",
    "BATCH_SIZE = 128\n",
    "VERBOSE = 1\n",
    "NB_CLASSES = 10\n",
    "N_HIDDEN = 128\n",
    "VARIDATTON_SPLIT=0.2"
   ]
  },
  {
   "cell_type": "code",
   "execution_count": 20,
   "metadata": {},
   "outputs": [
    {
     "name": "stdout",
     "output_type": "stream",
     "text": [
      "Downloading data from https://storage.googleapis.com/tensorflow/tf-keras-datasets/mnist.npz\n",
      "11493376/11490434 [==============================] - 1s 0us/step\n"
     ]
    }
   ],
   "source": [
    "# MNIST 데이터셋 로드\n",
    "# 검증\n",
    "# 훈련과 테스트 데이터를 각각 60,000개와 10,000개로 나눈 것을 알 수 있다.\n",
    "# 레이블에 대한 원핫 인코딩은 자동으로 적용된다.\n",
    "mnist = keras.datasets.mnist\n",
    "(X_train, Y_train), (X_test, Y_test) = mnist.load_data()"
   ]
  },
  {
   "cell_type": "code",
   "execution_count": 22,
   "metadata": {},
   "outputs": [],
   "source": [
    "# X_train은 60,000개의 행으로 28*28 값을 가진다. 이를 60,000 x 784로 변환\n",
    "RESHAPED = 784\n",
    "X_train = X_train.reshape(60000,RESHAPED)\n",
    "X_test = X_test.reshape(10000,RESHAPED)"
   ]
  },
  {
   "cell_type": "code",
   "execution_count": 23,
   "metadata": {},
   "outputs": [],
   "source": [
    "X_train=X_train.astype('float32')\n",
    "X_test = X_test.astype('float32')"
   ]
  },
  {
   "cell_type": "code",
   "execution_count": 25,
   "metadata": {},
   "outputs": [
    {
     "name": "stdout",
     "output_type": "stream",
     "text": [
      "60000 train samples\n",
      "10000 test samples\n"
     ]
    }
   ],
   "source": [
    "# 입력을 [0, 1]사이로 정규화\n",
    "\n",
    "X_train /= 255\n",
    "X_test /=255\n",
    "print(X_train.shape[0], 'train samples')\n",
    "print(X_test.shape[0], 'test samples')"
   ]
  },
  {
   "cell_type": "code",
   "execution_count": 26,
   "metadata": {},
   "outputs": [],
   "source": [
    "#테이블을 One-Hot-Encoding\n",
    "Y_train = tf.keras.utils.to_categorical(Y_train, NB_CLASSES)\n",
    "Y_test = tf.keras.utils.to_categorical(Y_test, NB_CLASSES)"
   ]
  },
  {
   "cell_type": "markdown",
   "metadata": {},
   "source": [
    "## 모델 구축"
   ]
  },
  {
   "cell_type": "code",
   "execution_count": 27,
   "metadata": {},
   "outputs": [],
   "source": [
    "model = tf.keras.models.Sequential()\n",
    "model.add(keras.layers.Dense(NB_CLASSES,\n",
    "                            input_shape=(RESHAPED,),\n",
    "                            name='dense_layer',\n",
    "                            activation='softmax'))"
   ]
  },
  {
   "cell_type": "markdown",
   "metadata": {},
   "source": [
    "## 모델 컴파일"
   ]
  },
  {
   "cell_type": "code",
   "execution_count": 29,
   "metadata": {},
   "outputs": [],
   "source": [
    "model.compile(optimizer='SGD',\n",
    "              loss='categorical_crossentropy',\n",
    "              metrics=['accuracy'])"
   ]
  },
  {
   "cell_type": "markdown",
   "metadata": {},
   "source": [
    "## 모델 훈련"
   ]
  },
  {
   "cell_type": "code",
   "execution_count": 32,
   "metadata": {},
   "outputs": [
    {
     "name": "stdout",
     "output_type": "stream",
     "text": [
      "Epoch 1/200\n",
      "375/375 [==============================] - 2s 5ms/step - loss: 1.3611 - accuracy: 0.6895 - val_loss: 0.8798 - val_accuracy: 0.8303\n",
      "Epoch 2/200\n",
      "375/375 [==============================] - 2s 4ms/step - loss: 0.7842 - accuracy: 0.8305 - val_loss: 0.6485 - val_accuracy: 0.8616\n",
      "Epoch 3/200\n",
      "375/375 [==============================] - 1s 3ms/step - loss: 0.6381 - accuracy: 0.8519 - val_loss: 0.5555 - val_accuracy: 0.8742\n",
      "Epoch 4/200\n",
      "375/375 [==============================] - 2s 4ms/step - loss: 0.5674 - accuracy: 0.8619 - val_loss: 0.5041 - val_accuracy: 0.8793\n",
      "Epoch 5/200\n",
      "375/375 [==============================] - 2s 4ms/step - loss: 0.5242 - accuracy: 0.8686 - val_loss: 0.4708 - val_accuracy: 0.8851\n",
      "Epoch 6/200\n",
      "375/375 [==============================] - 2s 4ms/step - loss: 0.4944 - accuracy: 0.8734 - val_loss: 0.4473 - val_accuracy: 0.8882\n",
      "Epoch 7/200\n",
      "375/375 [==============================] - 2s 5ms/step - loss: 0.4724 - accuracy: 0.8778 - val_loss: 0.4295 - val_accuracy: 0.8926\n",
      "Epoch 8/200\n",
      "375/375 [==============================] - 1s 4ms/step - loss: 0.4552 - accuracy: 0.8813 - val_loss: 0.4155 - val_accuracy: 0.8938\n",
      "Epoch 9/200\n",
      "375/375 [==============================] - 2s 5ms/step - loss: 0.4414 - accuracy: 0.8840 - val_loss: 0.4044 - val_accuracy: 0.8963\n",
      "Epoch 10/200\n",
      "375/375 [==============================] - 2s 5ms/step - loss: 0.4300 - accuracy: 0.8859 - val_loss: 0.3950 - val_accuracy: 0.8976\n",
      "Epoch 11/200\n",
      "375/375 [==============================] - 2s 4ms/step - loss: 0.4203 - accuracy: 0.8880 - val_loss: 0.3872 - val_accuracy: 0.8981\n",
      "Epoch 12/200\n",
      "375/375 [==============================] - 2s 5ms/step - loss: 0.4120 - accuracy: 0.8892 - val_loss: 0.3802 - val_accuracy: 0.9003\n",
      "Epoch 13/200\n",
      "375/375 [==============================] - 2s 4ms/step - loss: 0.4048 - accuracy: 0.8912 - val_loss: 0.3744 - val_accuracy: 0.9009\n",
      "Epoch 14/200\n",
      "375/375 [==============================] - 2s 5ms/step - loss: 0.3983 - accuracy: 0.8923 - val_loss: 0.3693 - val_accuracy: 0.9018\n",
      "Epoch 15/200\n",
      "375/375 [==============================] - 2s 5ms/step - loss: 0.3927 - accuracy: 0.8932 - val_loss: 0.3644 - val_accuracy: 0.9027\n",
      "Epoch 16/200\n",
      "375/375 [==============================] - 2s 5ms/step - loss: 0.3875 - accuracy: 0.8948 - val_loss: 0.3602 - val_accuracy: 0.9038\n",
      "Epoch 17/200\n",
      "375/375 [==============================] - 2s 5ms/step - loss: 0.3829 - accuracy: 0.8957 - val_loss: 0.3564 - val_accuracy: 0.9043\n",
      "Epoch 18/200\n",
      "375/375 [==============================] - 2s 5ms/step - loss: 0.3787 - accuracy: 0.8966 - val_loss: 0.3530 - val_accuracy: 0.9046\n",
      "Epoch 19/200\n",
      "375/375 [==============================] - 2s 5ms/step - loss: 0.3748 - accuracy: 0.8972 - val_loss: 0.3498 - val_accuracy: 0.9065\n",
      "Epoch 20/200\n",
      "375/375 [==============================] - 2s 5ms/step - loss: 0.3712 - accuracy: 0.8983 - val_loss: 0.3469 - val_accuracy: 0.9062\n",
      "Epoch 21/200\n",
      "375/375 [==============================] - 1s 4ms/step - loss: 0.3679 - accuracy: 0.8987 - val_loss: 0.3441 - val_accuracy: 0.9077\n",
      "Epoch 22/200\n",
      "375/375 [==============================] - 2s 5ms/step - loss: 0.3648 - accuracy: 0.8998 - val_loss: 0.3418 - val_accuracy: 0.9076\n",
      "Epoch 23/200\n",
      "375/375 [==============================] - 2s 5ms/step - loss: 0.3620 - accuracy: 0.9003 - val_loss: 0.3395 - val_accuracy: 0.9079\n",
      "Epoch 24/200\n",
      "375/375 [==============================] - 2s 4ms/step - loss: 0.3593 - accuracy: 0.9010 - val_loss: 0.3373 - val_accuracy: 0.9091\n",
      "Epoch 25/200\n",
      "375/375 [==============================] - 2s 5ms/step - loss: 0.3568 - accuracy: 0.9014 - val_loss: 0.3352 - val_accuracy: 0.9090\n",
      "Epoch 26/200\n",
      "375/375 [==============================] - 2s 5ms/step - loss: 0.3545 - accuracy: 0.9019 - val_loss: 0.3332 - val_accuracy: 0.9097\n",
      "Epoch 27/200\n",
      "375/375 [==============================] - 2s 5ms/step - loss: 0.3522 - accuracy: 0.9022 - val_loss: 0.3316 - val_accuracy: 0.9097\n",
      "Epoch 28/200\n",
      "375/375 [==============================] - 2s 5ms/step - loss: 0.3501 - accuracy: 0.9028 - val_loss: 0.3298 - val_accuracy: 0.9107\n",
      "Epoch 29/200\n",
      "375/375 [==============================] - 2s 4ms/step - loss: 0.3481 - accuracy: 0.9030 - val_loss: 0.3281 - val_accuracy: 0.9111\n",
      "Epoch 30/200\n",
      "375/375 [==============================] - 2s 5ms/step - loss: 0.3462 - accuracy: 0.9038 - val_loss: 0.3267 - val_accuracy: 0.9112\n",
      "Epoch 31/200\n",
      "375/375 [==============================] - 2s 5ms/step - loss: 0.3445 - accuracy: 0.9039 - val_loss: 0.3252 - val_accuracy: 0.9113\n",
      "Epoch 32/200\n",
      "375/375 [==============================] - 2s 5ms/step - loss: 0.3427 - accuracy: 0.9046 - val_loss: 0.3238 - val_accuracy: 0.9122\n",
      "Epoch 33/200\n",
      "375/375 [==============================] - 2s 5ms/step - loss: 0.3411 - accuracy: 0.9048 - val_loss: 0.3224 - val_accuracy: 0.9126\n",
      "Epoch 34/200\n",
      "375/375 [==============================] - 2s 5ms/step - loss: 0.3395 - accuracy: 0.9056 - val_loss: 0.3212 - val_accuracy: 0.9127\n",
      "Epoch 35/200\n",
      "375/375 [==============================] - 2s 4ms/step - loss: 0.3380 - accuracy: 0.9061 - val_loss: 0.3200 - val_accuracy: 0.9132\n",
      "Epoch 36/200\n",
      "375/375 [==============================] - 1s 3ms/step - loss: 0.3366 - accuracy: 0.9060 - val_loss: 0.3189 - val_accuracy: 0.9133\n",
      "Epoch 37/200\n",
      "375/375 [==============================] - 1s 2ms/step - loss: 0.3352 - accuracy: 0.9064 - val_loss: 0.3179 - val_accuracy: 0.9135\n",
      "Epoch 38/200\n",
      "375/375 [==============================] - 1s 2ms/step - loss: 0.3339 - accuracy: 0.9069 - val_loss: 0.3167 - val_accuracy: 0.9137\n",
      "Epoch 39/200\n",
      "375/375 [==============================] - 1s 2ms/step - loss: 0.3326 - accuracy: 0.9074 - val_loss: 0.3158 - val_accuracy: 0.9144\n",
      "Epoch 40/200\n",
      "375/375 [==============================] - 1s 3ms/step - loss: 0.3314 - accuracy: 0.9078 - val_loss: 0.3148 - val_accuracy: 0.9145\n",
      "Epoch 41/200\n",
      "375/375 [==============================] - 1s 3ms/step - loss: 0.3302 - accuracy: 0.9077 - val_loss: 0.3139 - val_accuracy: 0.9143\n",
      "Epoch 42/200\n",
      "375/375 [==============================] - 1s 3ms/step - loss: 0.3291 - accuracy: 0.9080 - val_loss: 0.3129 - val_accuracy: 0.9146\n",
      "Epoch 43/200\n",
      "375/375 [==============================] - 1s 2ms/step - loss: 0.3280 - accuracy: 0.9083 - val_loss: 0.3121 - val_accuracy: 0.9150\n",
      "Epoch 44/200\n",
      "375/375 [==============================] - 1s 3ms/step - loss: 0.3269 - accuracy: 0.9087 - val_loss: 0.3112 - val_accuracy: 0.9153\n",
      "Epoch 45/200\n",
      "375/375 [==============================] - 1s 3ms/step - loss: 0.3258 - accuracy: 0.9090 - val_loss: 0.3105 - val_accuracy: 0.9149\n",
      "Epoch 46/200\n",
      "375/375 [==============================] - 1s 3ms/step - loss: 0.3249 - accuracy: 0.9092 - val_loss: 0.3097 - val_accuracy: 0.9150\n",
      "Epoch 47/200\n",
      "375/375 [==============================] - 1s 3ms/step - loss: 0.3239 - accuracy: 0.9093 - val_loss: 0.3089 - val_accuracy: 0.9153\n",
      "Epoch 48/200\n",
      "375/375 [==============================] - 1s 3ms/step - loss: 0.3230 - accuracy: 0.9100 - val_loss: 0.3082 - val_accuracy: 0.9153\n",
      "Epoch 49/200\n",
      "375/375 [==============================] - 2s 4ms/step - loss: 0.3221 - accuracy: 0.9101 - val_loss: 0.3075 - val_accuracy: 0.9153\n",
      "Epoch 50/200\n",
      "375/375 [==============================] - 1s 4ms/step - loss: 0.3212 - accuracy: 0.9105 - val_loss: 0.3068 - val_accuracy: 0.9157\n",
      "Epoch 51/200\n",
      "375/375 [==============================] - 2s 4ms/step - loss: 0.3203 - accuracy: 0.9106 - val_loss: 0.3062 - val_accuracy: 0.9160\n",
      "Epoch 52/200\n",
      "375/375 [==============================] - 1s 4ms/step - loss: 0.3195 - accuracy: 0.9109 - val_loss: 0.3055 - val_accuracy: 0.9162\n",
      "Epoch 53/200\n",
      "375/375 [==============================] - 1s 2ms/step - loss: 0.3187 - accuracy: 0.9108 - val_loss: 0.3049 - val_accuracy: 0.9165\n",
      "Epoch 54/200\n",
      "375/375 [==============================] - 1s 3ms/step - loss: 0.3179 - accuracy: 0.9113 - val_loss: 0.3043 - val_accuracy: 0.9162\n",
      "Epoch 55/200\n",
      "375/375 [==============================] - 1s 3ms/step - loss: 0.3172 - accuracy: 0.9118 - val_loss: 0.3037 - val_accuracy: 0.9166\n",
      "Epoch 56/200\n",
      "375/375 [==============================] - 1s 4ms/step - loss: 0.3164 - accuracy: 0.9118 - val_loss: 0.3031 - val_accuracy: 0.9164\n",
      "Epoch 57/200\n",
      "375/375 [==============================] - 1s 4ms/step - loss: 0.3157 - accuracy: 0.9120 - val_loss: 0.3026 - val_accuracy: 0.9168\n"
     ]
    },
    {
     "name": "stdout",
     "output_type": "stream",
     "text": [
      "Epoch 58/200\n",
      "375/375 [==============================] - 1s 4ms/step - loss: 0.3150 - accuracy: 0.9123 - val_loss: 0.3020 - val_accuracy: 0.9169\n",
      "Epoch 59/200\n",
      "375/375 [==============================] - 2s 4ms/step - loss: 0.3143 - accuracy: 0.9125 - val_loss: 0.3015 - val_accuracy: 0.9170\n",
      "Epoch 60/200\n",
      "375/375 [==============================] - 2s 5ms/step - loss: 0.3136 - accuracy: 0.9129 - val_loss: 0.3009 - val_accuracy: 0.9176\n",
      "Epoch 61/200\n",
      "375/375 [==============================] - 2s 5ms/step - loss: 0.3130 - accuracy: 0.9129 - val_loss: 0.3005 - val_accuracy: 0.9175\n",
      "Epoch 62/200\n",
      "375/375 [==============================] - 2s 5ms/step - loss: 0.3123 - accuracy: 0.9132 - val_loss: 0.3000 - val_accuracy: 0.9172\n",
      "Epoch 63/200\n",
      "375/375 [==============================] - 1s 4ms/step - loss: 0.3117 - accuracy: 0.9133 - val_loss: 0.2995 - val_accuracy: 0.9177\n",
      "Epoch 64/200\n",
      "375/375 [==============================] - 1s 4ms/step - loss: 0.3111 - accuracy: 0.9133 - val_loss: 0.2991 - val_accuracy: 0.9174\n",
      "Epoch 65/200\n",
      "375/375 [==============================] - 2s 5ms/step - loss: 0.3105 - accuracy: 0.9136 - val_loss: 0.2986 - val_accuracy: 0.9174\n",
      "Epoch 66/200\n",
      "375/375 [==============================] - 2s 5ms/step - loss: 0.3099 - accuracy: 0.9139 - val_loss: 0.2981 - val_accuracy: 0.9175\n",
      "Epoch 67/200\n",
      "375/375 [==============================] - 2s 5ms/step - loss: 0.3094 - accuracy: 0.9141 - val_loss: 0.2977 - val_accuracy: 0.9177\n",
      "Epoch 68/200\n",
      "375/375 [==============================] - 2s 4ms/step - loss: 0.3088 - accuracy: 0.9142 - val_loss: 0.2972 - val_accuracy: 0.9175\n",
      "Epoch 69/200\n",
      "375/375 [==============================] - 2s 4ms/step - loss: 0.3083 - accuracy: 0.9145 - val_loss: 0.2968 - val_accuracy: 0.9180\n",
      "Epoch 70/200\n",
      "375/375 [==============================] - 2s 5ms/step - loss: 0.3077 - accuracy: 0.9144 - val_loss: 0.2965 - val_accuracy: 0.9178\n",
      "Epoch 71/200\n",
      "375/375 [==============================] - 2s 5ms/step - loss: 0.3072 - accuracy: 0.9146 - val_loss: 0.2961 - val_accuracy: 0.9181\n",
      "Epoch 72/200\n",
      "375/375 [==============================] - 2s 5ms/step - loss: 0.3067 - accuracy: 0.9147 - val_loss: 0.2957 - val_accuracy: 0.9183\n",
      "Epoch 73/200\n",
      "375/375 [==============================] - 2s 5ms/step - loss: 0.3062 - accuracy: 0.9146 - val_loss: 0.2953 - val_accuracy: 0.9182\n",
      "Epoch 74/200\n",
      "375/375 [==============================] - 2s 5ms/step - loss: 0.3057 - accuracy: 0.9150 - val_loss: 0.2950 - val_accuracy: 0.9185\n",
      "Epoch 75/200\n",
      "375/375 [==============================] - 2s 4ms/step - loss: 0.3051 - accuracy: 0.9150 - val_loss: 0.2946 - val_accuracy: 0.9182\n",
      "Epoch 76/200\n",
      "375/375 [==============================] - 2s 4ms/step - loss: 0.3047 - accuracy: 0.9154 - val_loss: 0.2943 - val_accuracy: 0.9186\n",
      "Epoch 77/200\n",
      "375/375 [==============================] - 2s 5ms/step - loss: 0.3042 - accuracy: 0.9155 - val_loss: 0.2939 - val_accuracy: 0.9187\n",
      "Epoch 78/200\n",
      "375/375 [==============================] - 1s 4ms/step - loss: 0.3038 - accuracy: 0.9153 - val_loss: 0.2936 - val_accuracy: 0.9186\n",
      "Epoch 79/200\n",
      "375/375 [==============================] - 1s 2ms/step - loss: 0.3033 - accuracy: 0.9154 - val_loss: 0.2932 - val_accuracy: 0.9187\n",
      "Epoch 80/200\n",
      "375/375 [==============================] - 1s 3ms/step - loss: 0.3029 - accuracy: 0.9160 - val_loss: 0.2930 - val_accuracy: 0.9187\n",
      "Epoch 81/200\n",
      "375/375 [==============================] - 1s 3ms/step - loss: 0.3025 - accuracy: 0.9160 - val_loss: 0.2926 - val_accuracy: 0.9190\n",
      "Epoch 82/200\n",
      "375/375 [==============================] - 1s 4ms/step - loss: 0.3021 - accuracy: 0.9161 - val_loss: 0.2923 - val_accuracy: 0.9193\n",
      "Epoch 83/200\n",
      "375/375 [==============================] - 1s 3ms/step - loss: 0.3016 - accuracy: 0.9163 - val_loss: 0.2920 - val_accuracy: 0.9193\n",
      "Epoch 84/200\n",
      "375/375 [==============================] - 1s 3ms/step - loss: 0.3012 - accuracy: 0.9162 - val_loss: 0.2917 - val_accuracy: 0.9190\n",
      "Epoch 85/200\n",
      "375/375 [==============================] - 1s 3ms/step - loss: 0.3008 - accuracy: 0.9165 - val_loss: 0.2914 - val_accuracy: 0.9193\n",
      "Epoch 86/200\n",
      "375/375 [==============================] - 1s 3ms/step - loss: 0.3004 - accuracy: 0.9164 - val_loss: 0.2911 - val_accuracy: 0.9198\n",
      "Epoch 87/200\n",
      "375/375 [==============================] - 2s 4ms/step - loss: 0.3000 - accuracy: 0.9167 - val_loss: 0.2908 - val_accuracy: 0.9197\n",
      "Epoch 88/200\n",
      "375/375 [==============================] - 1s 3ms/step - loss: 0.2996 - accuracy: 0.9166 - val_loss: 0.2905 - val_accuracy: 0.9197\n",
      "Epoch 89/200\n",
      "375/375 [==============================] - 1s 4ms/step - loss: 0.2993 - accuracy: 0.9170 - val_loss: 0.2903 - val_accuracy: 0.9201\n",
      "Epoch 90/200\n",
      "375/375 [==============================] - 1s 4ms/step - loss: 0.2989 - accuracy: 0.9169 - val_loss: 0.2900 - val_accuracy: 0.9197\n",
      "Epoch 91/200\n",
      "375/375 [==============================] - 1s 3ms/step - loss: 0.2985 - accuracy: 0.9171 - val_loss: 0.2897 - val_accuracy: 0.9201\n",
      "Epoch 92/200\n",
      "375/375 [==============================] - 1s 4ms/step - loss: 0.2982 - accuracy: 0.9173 - val_loss: 0.2894 - val_accuracy: 0.9203\n",
      "Epoch 93/200\n",
      "375/375 [==============================] - 1s 4ms/step - loss: 0.2978 - accuracy: 0.9172 - val_loss: 0.2892 - val_accuracy: 0.9200\n",
      "Epoch 94/200\n",
      "375/375 [==============================] - 2s 4ms/step - loss: 0.2975 - accuracy: 0.9174 - val_loss: 0.2890 - val_accuracy: 0.9195\n",
      "Epoch 95/200\n",
      "375/375 [==============================] - 1s 3ms/step - loss: 0.2971 - accuracy: 0.9175 - val_loss: 0.2887 - val_accuracy: 0.9204\n",
      "Epoch 96/200\n",
      "375/375 [==============================] - 1s 2ms/step - loss: 0.2968 - accuracy: 0.9173 - val_loss: 0.2885 - val_accuracy: 0.9206\n",
      "Epoch 97/200\n",
      "375/375 [==============================] - 1s 3ms/step - loss: 0.2964 - accuracy: 0.9174 - val_loss: 0.2883 - val_accuracy: 0.9211\n",
      "Epoch 98/200\n",
      "375/375 [==============================] - 1s 3ms/step - loss: 0.2961 - accuracy: 0.9178 - val_loss: 0.2880 - val_accuracy: 0.9204\n",
      "Epoch 99/200\n",
      "375/375 [==============================] - 2s 4ms/step - loss: 0.2958 - accuracy: 0.9176 - val_loss: 0.2879 - val_accuracy: 0.9202\n",
      "Epoch 100/200\n",
      "375/375 [==============================] - 1s 3ms/step - loss: 0.2955 - accuracy: 0.9178 - val_loss: 0.2876 - val_accuracy: 0.9206\n",
      "Epoch 101/200\n",
      "375/375 [==============================] - 1s 4ms/step - loss: 0.2952 - accuracy: 0.9176 - val_loss: 0.2874 - val_accuracy: 0.9207\n",
      "Epoch 102/200\n",
      "375/375 [==============================] - 2s 4ms/step - loss: 0.2949 - accuracy: 0.9179 - val_loss: 0.2871 - val_accuracy: 0.9207\n",
      "Epoch 103/200\n",
      "375/375 [==============================] - 1s 3ms/step - loss: 0.2945 - accuracy: 0.9181 - val_loss: 0.2870 - val_accuracy: 0.9205\n",
      "Epoch 104/200\n",
      "375/375 [==============================] - 1s 4ms/step - loss: 0.2942 - accuracy: 0.9179 - val_loss: 0.2868 - val_accuracy: 0.9204\n",
      "Epoch 105/200\n",
      "375/375 [==============================] - 1s 3ms/step - loss: 0.2939 - accuracy: 0.9178 - val_loss: 0.2865 - val_accuracy: 0.9212\n",
      "Epoch 106/200\n",
      "375/375 [==============================] - 2s 4ms/step - loss: 0.2937 - accuracy: 0.9182 - val_loss: 0.2863 - val_accuracy: 0.9208\n",
      "Epoch 107/200\n",
      "375/375 [==============================] - 1s 3ms/step - loss: 0.2933 - accuracy: 0.9186 - val_loss: 0.2862 - val_accuracy: 0.9208\n",
      "Epoch 108/200\n",
      "375/375 [==============================] - 1s 4ms/step - loss: 0.2931 - accuracy: 0.9184 - val_loss: 0.2858 - val_accuracy: 0.9208\n",
      "Epoch 109/200\n",
      "375/375 [==============================] - 2s 4ms/step - loss: 0.2928 - accuracy: 0.9183 - val_loss: 0.2857 - val_accuracy: 0.9211\n",
      "Epoch 110/200\n",
      "375/375 [==============================] - 1s 3ms/step - loss: 0.2925 - accuracy: 0.9183 - val_loss: 0.2854 - val_accuracy: 0.9213\n",
      "Epoch 111/200\n",
      "375/375 [==============================] - 1s 3ms/step - loss: 0.2922 - accuracy: 0.9187 - val_loss: 0.2854 - val_accuracy: 0.9207\n",
      "Epoch 112/200\n",
      "375/375 [==============================] - 1s 3ms/step - loss: 0.2920 - accuracy: 0.9187 - val_loss: 0.2852 - val_accuracy: 0.9212\n",
      "Epoch 113/200\n",
      "375/375 [==============================] - 1s 2ms/step - loss: 0.2917 - accuracy: 0.9188 - val_loss: 0.2850 - val_accuracy: 0.9212\n",
      "Epoch 114/200\n",
      "375/375 [==============================] - 1s 3ms/step - loss: 0.2914 - accuracy: 0.9186 - val_loss: 0.2848 - val_accuracy: 0.9215\n"
     ]
    },
    {
     "name": "stdout",
     "output_type": "stream",
     "text": [
      "Epoch 115/200\n",
      "375/375 [==============================] - 1s 3ms/step - loss: 0.2911 - accuracy: 0.9190 - val_loss: 0.2846 - val_accuracy: 0.9214\n",
      "Epoch 116/200\n",
      "375/375 [==============================] - 1s 2ms/step - loss: 0.2909 - accuracy: 0.9187 - val_loss: 0.2845 - val_accuracy: 0.9214\n",
      "Epoch 117/200\n",
      "375/375 [==============================] - 1s 3ms/step - loss: 0.2907 - accuracy: 0.9189 - val_loss: 0.2842 - val_accuracy: 0.9215\n",
      "Epoch 118/200\n",
      "375/375 [==============================] - 1s 3ms/step - loss: 0.2904 - accuracy: 0.9188 - val_loss: 0.2841 - val_accuracy: 0.9215\n",
      "Epoch 119/200\n",
      "375/375 [==============================] - 1s 2ms/step - loss: 0.2901 - accuracy: 0.9190 - val_loss: 0.2839 - val_accuracy: 0.9220\n",
      "Epoch 120/200\n",
      "375/375 [==============================] - 1s 4ms/step - loss: 0.2899 - accuracy: 0.9191 - val_loss: 0.2837 - val_accuracy: 0.9218\n",
      "Epoch 121/200\n",
      "375/375 [==============================] - 1s 3ms/step - loss: 0.2897 - accuracy: 0.9191 - val_loss: 0.2836 - val_accuracy: 0.9218\n",
      "Epoch 122/200\n",
      "375/375 [==============================] - 1s 3ms/step - loss: 0.2894 - accuracy: 0.9192 - val_loss: 0.2834 - val_accuracy: 0.9215\n",
      "Epoch 123/200\n",
      "375/375 [==============================] - 2s 4ms/step - loss: 0.2892 - accuracy: 0.9191 - val_loss: 0.2832 - val_accuracy: 0.9216\n",
      "Epoch 124/200\n",
      "375/375 [==============================] - 1s 4ms/step - loss: 0.2889 - accuracy: 0.9192 - val_loss: 0.2831 - val_accuracy: 0.9216\n",
      "Epoch 125/200\n",
      "375/375 [==============================] - 1s 4ms/step - loss: 0.2887 - accuracy: 0.9193 - val_loss: 0.2830 - val_accuracy: 0.9212\n",
      "Epoch 126/200\n",
      "375/375 [==============================] - 1s 3ms/step - loss: 0.2885 - accuracy: 0.9193 - val_loss: 0.2828 - val_accuracy: 0.9218\n",
      "Epoch 127/200\n",
      "375/375 [==============================] - 1s 3ms/step - loss: 0.2882 - accuracy: 0.9197 - val_loss: 0.2827 - val_accuracy: 0.9214\n",
      "Epoch 128/200\n",
      "375/375 [==============================] - 2s 5ms/step - loss: 0.2880 - accuracy: 0.9197 - val_loss: 0.2824 - val_accuracy: 0.9218\n",
      "Epoch 129/200\n",
      "375/375 [==============================] - 1s 4ms/step - loss: 0.2878 - accuracy: 0.9197 - val_loss: 0.2823 - val_accuracy: 0.9214\n",
      "Epoch 130/200\n",
      "375/375 [==============================] - 1s 4ms/step - loss: 0.2876 - accuracy: 0.9196 - val_loss: 0.2822 - val_accuracy: 0.9214\n",
      "Epoch 131/200\n",
      "375/375 [==============================] - 1s 3ms/step - loss: 0.2874 - accuracy: 0.9195 - val_loss: 0.2820 - val_accuracy: 0.9220\n",
      "Epoch 132/200\n",
      "375/375 [==============================] - 1s 3ms/step - loss: 0.2871 - accuracy: 0.9198 - val_loss: 0.2819 - val_accuracy: 0.9212\n",
      "Epoch 133/200\n",
      "375/375 [==============================] - 1s 3ms/step - loss: 0.2869 - accuracy: 0.9201 - val_loss: 0.2817 - val_accuracy: 0.9218\n",
      "Epoch 134/200\n",
      "375/375 [==============================] - 1s 2ms/step - loss: 0.2867 - accuracy: 0.9200 - val_loss: 0.2816 - val_accuracy: 0.9218\n",
      "Epoch 135/200\n",
      "375/375 [==============================] - 1s 4ms/step - loss: 0.2865 - accuracy: 0.9199 - val_loss: 0.2816 - val_accuracy: 0.9218\n",
      "Epoch 136/200\n",
      "375/375 [==============================] - 1s 3ms/step - loss: 0.2863 - accuracy: 0.9200 - val_loss: 0.2814 - val_accuracy: 0.9218\n",
      "Epoch 137/200\n",
      "375/375 [==============================] - 1s 2ms/step - loss: 0.2861 - accuracy: 0.9202 - val_loss: 0.2813 - val_accuracy: 0.9219\n",
      "Epoch 138/200\n",
      "375/375 [==============================] - 1s 3ms/step - loss: 0.2859 - accuracy: 0.9202 - val_loss: 0.2811 - val_accuracy: 0.9220\n",
      "Epoch 139/200\n",
      "375/375 [==============================] - 1s 3ms/step - loss: 0.2857 - accuracy: 0.9202 - val_loss: 0.2809 - val_accuracy: 0.9222\n",
      "Epoch 140/200\n",
      "375/375 [==============================] - 1s 2ms/step - loss: 0.2855 - accuracy: 0.9203 - val_loss: 0.2808 - val_accuracy: 0.9216\n",
      "Epoch 141/200\n",
      "375/375 [==============================] - 1s 3ms/step - loss: 0.2853 - accuracy: 0.9204 - val_loss: 0.2807 - val_accuracy: 0.9223\n",
      "Epoch 142/200\n",
      "375/375 [==============================] - 1s 3ms/step - loss: 0.2851 - accuracy: 0.9206 - val_loss: 0.2806 - val_accuracy: 0.9222\n",
      "Epoch 143/200\n",
      "375/375 [==============================] - 1s 3ms/step - loss: 0.2849 - accuracy: 0.9205 - val_loss: 0.2804 - val_accuracy: 0.9223\n",
      "Epoch 144/200\n",
      "375/375 [==============================] - 1s 3ms/step - loss: 0.2847 - accuracy: 0.9206 - val_loss: 0.2803 - val_accuracy: 0.9223\n",
      "Epoch 145/200\n",
      "375/375 [==============================] - 1s 3ms/step - loss: 0.2846 - accuracy: 0.9206 - val_loss: 0.2802 - val_accuracy: 0.9222\n",
      "Epoch 146/200\n",
      "375/375 [==============================] - 1s 4ms/step - loss: 0.2843 - accuracy: 0.9206 - val_loss: 0.2801 - val_accuracy: 0.9221\n",
      "Epoch 147/200\n",
      "375/375 [==============================] - 1s 3ms/step - loss: 0.2841 - accuracy: 0.9206 - val_loss: 0.2800 - val_accuracy: 0.9225\n",
      "Epoch 148/200\n",
      "375/375 [==============================] - 2s 4ms/step - loss: 0.2840 - accuracy: 0.9208 - val_loss: 0.2799 - val_accuracy: 0.9225\n",
      "Epoch 149/200\n",
      "375/375 [==============================] - 1s 3ms/step - loss: 0.2838 - accuracy: 0.9210 - val_loss: 0.2797 - val_accuracy: 0.9226\n",
      "Epoch 150/200\n",
      "375/375 [==============================] - 1s 4ms/step - loss: 0.2836 - accuracy: 0.9209 - val_loss: 0.2796 - val_accuracy: 0.9222\n",
      "Epoch 151/200\n",
      "375/375 [==============================] - 1s 4ms/step - loss: 0.2834 - accuracy: 0.9209 - val_loss: 0.2795 - val_accuracy: 0.9225\n",
      "Epoch 152/200\n",
      "375/375 [==============================] - 2s 4ms/step - loss: 0.2833 - accuracy: 0.9209 - val_loss: 0.2794 - val_accuracy: 0.9225\n",
      "Epoch 153/200\n",
      "375/375 [==============================] - 1s 4ms/step - loss: 0.2831 - accuracy: 0.9212 - val_loss: 0.2793 - val_accuracy: 0.9228\n",
      "Epoch 154/200\n",
      "375/375 [==============================] - 1s 3ms/step - loss: 0.2829 - accuracy: 0.9208 - val_loss: 0.2792 - val_accuracy: 0.9227\n",
      "Epoch 155/200\n",
      "375/375 [==============================] - 1s 3ms/step - loss: 0.2827 - accuracy: 0.9211 - val_loss: 0.2790 - val_accuracy: 0.9225\n",
      "Epoch 156/200\n",
      "375/375 [==============================] - 2s 4ms/step - loss: 0.2826 - accuracy: 0.9213 - val_loss: 0.2789 - val_accuracy: 0.9224\n",
      "Epoch 157/200\n",
      "375/375 [==============================] - 2s 5ms/step - loss: 0.2824 - accuracy: 0.9212 - val_loss: 0.2788 - val_accuracy: 0.9225\n",
      "Epoch 158/200\n",
      "375/375 [==============================] - 1s 4ms/step - loss: 0.2822 - accuracy: 0.9212 - val_loss: 0.2788 - val_accuracy: 0.9224\n",
      "Epoch 159/200\n",
      "375/375 [==============================] - 2s 5ms/step - loss: 0.2821 - accuracy: 0.9215 - val_loss: 0.2786 - val_accuracy: 0.9227\n",
      "Epoch 160/200\n",
      "375/375 [==============================] - 2s 4ms/step - loss: 0.2819 - accuracy: 0.9213 - val_loss: 0.2787 - val_accuracy: 0.9227\n",
      "Epoch 161/200\n",
      "375/375 [==============================] - 2s 5ms/step - loss: 0.2817 - accuracy: 0.9213 - val_loss: 0.2784 - val_accuracy: 0.9227\n",
      "Epoch 162/200\n",
      "375/375 [==============================] - 1s 3ms/step - loss: 0.2816 - accuracy: 0.9215 - val_loss: 0.2783 - val_accuracy: 0.9227\n",
      "Epoch 163/200\n",
      "375/375 [==============================] - 1s 3ms/step - loss: 0.2814 - accuracy: 0.9213 - val_loss: 0.2782 - val_accuracy: 0.9232\n",
      "Epoch 164/200\n",
      "375/375 [==============================] - 1s 3ms/step - loss: 0.2813 - accuracy: 0.9218 - val_loss: 0.2781 - val_accuracy: 0.9231\n",
      "Epoch 165/200\n",
      "375/375 [==============================] - 1s 3ms/step - loss: 0.2811 - accuracy: 0.9217 - val_loss: 0.2780 - val_accuracy: 0.9231\n",
      "Epoch 166/200\n",
      "375/375 [==============================] - 2s 4ms/step - loss: 0.2809 - accuracy: 0.9218 - val_loss: 0.2780 - val_accuracy: 0.9229\n",
      "Epoch 167/200\n",
      "375/375 [==============================] - 2s 5ms/step - loss: 0.2807 - accuracy: 0.9217 - val_loss: 0.2780 - val_accuracy: 0.9230\n",
      "Epoch 168/200\n",
      "375/375 [==============================] - 2s 6ms/step - loss: 0.2806 - accuracy: 0.9216 - val_loss: 0.2777 - val_accuracy: 0.9232\n",
      "Epoch 169/200\n",
      "375/375 [==============================] - 2s 5ms/step - loss: 0.2805 - accuracy: 0.9220 - val_loss: 0.2777 - val_accuracy: 0.9232\n",
      "Epoch 170/200\n",
      "375/375 [==============================] - 1s 4ms/step - loss: 0.2803 - accuracy: 0.9221 - val_loss: 0.2776 - val_accuracy: 0.9230\n",
      "Epoch 171/200\n"
     ]
    },
    {
     "name": "stdout",
     "output_type": "stream",
     "text": [
      "375/375 [==============================] - 2s 5ms/step - loss: 0.2802 - accuracy: 0.9218 - val_loss: 0.2775 - val_accuracy: 0.9229\n",
      "Epoch 172/200\n",
      "375/375 [==============================] - 2s 5ms/step - loss: 0.2800 - accuracy: 0.9219 - val_loss: 0.2774 - val_accuracy: 0.9233\n",
      "Epoch 173/200\n",
      "375/375 [==============================] - 2s 5ms/step - loss: 0.2799 - accuracy: 0.9220 - val_loss: 0.2773 - val_accuracy: 0.9233\n",
      "Epoch 174/200\n",
      "375/375 [==============================] - 2s 5ms/step - loss: 0.2797 - accuracy: 0.9222 - val_loss: 0.2772 - val_accuracy: 0.9232\n",
      "Epoch 175/200\n",
      "375/375 [==============================] - 2s 5ms/step - loss: 0.2796 - accuracy: 0.9221 - val_loss: 0.2771 - val_accuracy: 0.9232\n",
      "Epoch 176/200\n",
      "375/375 [==============================] - 2s 5ms/step - loss: 0.2794 - accuracy: 0.9220 - val_loss: 0.2771 - val_accuracy: 0.9228\n",
      "Epoch 177/200\n",
      "375/375 [==============================] - 2s 4ms/step - loss: 0.2793 - accuracy: 0.9222 - val_loss: 0.2770 - val_accuracy: 0.9233\n",
      "Epoch 178/200\n",
      "375/375 [==============================] - 2s 5ms/step - loss: 0.2792 - accuracy: 0.9218 - val_loss: 0.2769 - val_accuracy: 0.9233\n",
      "Epoch 179/200\n",
      "375/375 [==============================] - 1s 3ms/step - loss: 0.2790 - accuracy: 0.9220 - val_loss: 0.2768 - val_accuracy: 0.9231\n",
      "Epoch 180/200\n",
      "375/375 [==============================] - 1s 3ms/step - loss: 0.2788 - accuracy: 0.9222 - val_loss: 0.2767 - val_accuracy: 0.9233\n",
      "Epoch 181/200\n",
      "375/375 [==============================] - 1s 3ms/step - loss: 0.2787 - accuracy: 0.9223 - val_loss: 0.2766 - val_accuracy: 0.9234\n",
      "Epoch 182/200\n",
      "375/375 [==============================] - 1s 3ms/step - loss: 0.2786 - accuracy: 0.9223 - val_loss: 0.2766 - val_accuracy: 0.9230\n",
      "Epoch 183/200\n",
      "375/375 [==============================] - 2s 5ms/step - loss: 0.2784 - accuracy: 0.9222 - val_loss: 0.2765 - val_accuracy: 0.9234\n",
      "Epoch 184/200\n",
      "375/375 [==============================] - 1s 3ms/step - loss: 0.2783 - accuracy: 0.9223 - val_loss: 0.2764 - val_accuracy: 0.9239\n",
      "Epoch 185/200\n",
      "375/375 [==============================] - 1s 3ms/step - loss: 0.2782 - accuracy: 0.9224 - val_loss: 0.2763 - val_accuracy: 0.9233\n",
      "Epoch 186/200\n",
      "375/375 [==============================] - 1s 4ms/step - loss: 0.2780 - accuracy: 0.9222 - val_loss: 0.2762 - val_accuracy: 0.9234\n",
      "Epoch 187/200\n",
      "375/375 [==============================] - 2s 5ms/step - loss: 0.2779 - accuracy: 0.9224 - val_loss: 0.2762 - val_accuracy: 0.9231\n",
      "Epoch 188/200\n",
      "375/375 [==============================] - 2s 5ms/step - loss: 0.2778 - accuracy: 0.9226 - val_loss: 0.2761 - val_accuracy: 0.9236\n",
      "Epoch 189/200\n",
      "375/375 [==============================] - 1s 4ms/step - loss: 0.2777 - accuracy: 0.9226 - val_loss: 0.2760 - val_accuracy: 0.9233\n",
      "Epoch 190/200\n",
      "375/375 [==============================] - 1s 4ms/step - loss: 0.2775 - accuracy: 0.9225 - val_loss: 0.2759 - val_accuracy: 0.9237\n",
      "Epoch 191/200\n",
      "375/375 [==============================] - 2s 5ms/step - loss: 0.2774 - accuracy: 0.9227 - val_loss: 0.2759 - val_accuracy: 0.9233\n",
      "Epoch 192/200\n",
      "375/375 [==============================] - 2s 5ms/step - loss: 0.2772 - accuracy: 0.9226 - val_loss: 0.2758 - val_accuracy: 0.9235\n",
      "Epoch 193/200\n",
      "375/375 [==============================] - 1s 3ms/step - loss: 0.2771 - accuracy: 0.9228 - val_loss: 0.2757 - val_accuracy: 0.9235\n",
      "Epoch 194/200\n",
      "375/375 [==============================] - 2s 5ms/step - loss: 0.2770 - accuracy: 0.9227 - val_loss: 0.2756 - val_accuracy: 0.9236\n",
      "Epoch 195/200\n",
      "375/375 [==============================] - 2s 5ms/step - loss: 0.2769 - accuracy: 0.9227 - val_loss: 0.2756 - val_accuracy: 0.9236\n",
      "Epoch 196/200\n",
      "375/375 [==============================] - 2s 5ms/step - loss: 0.2768 - accuracy: 0.9227 - val_loss: 0.2754 - val_accuracy: 0.9235\n",
      "Epoch 197/200\n",
      "375/375 [==============================] - 2s 5ms/step - loss: 0.2766 - accuracy: 0.9230 - val_loss: 0.2755 - val_accuracy: 0.9236\n",
      "Epoch 198/200\n",
      "375/375 [==============================] - 2s 5ms/step - loss: 0.2765 - accuracy: 0.9227 - val_loss: 0.2753 - val_accuracy: 0.9233\n",
      "Epoch 199/200\n",
      "375/375 [==============================] - 2s 5ms/step - loss: 0.2764 - accuracy: 0.9227 - val_loss: 0.2753 - val_accuracy: 0.9236\n",
      "Epoch 200/200\n",
      "375/375 [==============================] - 2s 5ms/step - loss: 0.2762 - accuracy: 0.9229 - val_loss: 0.2754 - val_accuracy: 0.9234\n"
     ]
    },
    {
     "data": {
      "text/plain": [
       "<tensorflow.python.keras.callbacks.History at 0x178051abcc8>"
      ]
     },
     "execution_count": 32,
     "metadata": {},
     "output_type": "execute_result"
    }
   ],
   "source": [
    "model.fit(X_train, Y_train,\n",
    "         batch_size=BATCH_SIZE, epochs=EPOCHS,\n",
    "         verbose = VERBOSE, validation_split=VARIDATTON_SPLIT)"
   ]
  },
  {
   "cell_type": "markdown",
   "metadata": {},
   "source": [
    "## 모델 평가"
   ]
  },
  {
   "cell_type": "code",
   "execution_count": 35,
   "metadata": {},
   "outputs": [
    {
     "name": "stdout",
     "output_type": "stream",
     "text": [
      "313/313 [==============================] - 0s 1ms/step - loss: 0.2769 - accuracy: 0.9221\n"
     ]
    }
   ],
   "source": [
    "test_loss, test_acc = model.evaluate(X_test,Y_test)"
   ]
  },
  {
   "cell_type": "code",
   "execution_count": 36,
   "metadata": {},
   "outputs": [
    {
     "name": "stdout",
     "output_type": "stream",
     "text": [
      "Test accuracy :  0.9221000075340271\n"
     ]
    }
   ],
   "source": [
    "print('Test accuracy : ',test_acc)"
   ]
  },
  {
   "cell_type": "markdown",
   "metadata": {},
   "source": [
    "## 개선"
   ]
  },
  {
   "cell_type": "code",
   "execution_count": null,
   "metadata": {},
   "outputs": [],
   "source": []
  }
 ],
 "metadata": {
  "kernelspec": {
   "display_name": "Python 3",
   "language": "python",
   "name": "python3"
  },
  "language_info": {
   "codemirror_mode": {
    "name": "ipython",
    "version": 3
   },
   "file_extension": ".py",
   "mimetype": "text/x-python",
   "name": "python",
   "nbconvert_exporter": "python",
   "pygments_lexer": "ipython3",
   "version": "3.7.6"
  }
 },
 "nbformat": 4,
 "nbformat_minor": 4
}
