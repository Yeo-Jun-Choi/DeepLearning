{
 "cells": [
  {
   "cell_type": "markdown",
   "metadata": {},
   "source": [
    "# TensorFlow Optimizer"
   ]
  },
  {
   "cell_type": "code",
   "execution_count": 1,
   "metadata": {},
   "outputs": [],
   "source": [
    "import tensorflow as tf"
   ]
  },
  {
   "cell_type": "code",
   "execution_count": 2,
   "metadata": {},
   "outputs": [],
   "source": [
    "import matplotlib\n",
    "import sklearn\n",
    "import numpy as np"
   ]
  },
  {
   "cell_type": "code",
   "execution_count": 3,
   "metadata": {},
   "outputs": [],
   "source": [
    "from tensorflow import keras"
   ]
  },
  {
   "cell_type": "code",
   "execution_count": 4,
   "metadata": {},
   "outputs": [],
   "source": [
    "#신경망과 훈련 매개변수\n",
    "EPOCHS = 200\n",
    "BATCH_SIZE = 128\n",
    "VERBOSE = 1\n",
    "NB_CLASSES = 10 #출력개수 = 숫자 개수\n",
    "N_HIDDEN = 128\n",
    "VARIDATTON_SPLIT=0.2\n",
    "DROPOUT = 0.3"
   ]
  },
  {
   "cell_type": "code",
   "execution_count": 5,
   "metadata": {},
   "outputs": [],
   "source": [
    "# MNIST 데이터셋 로드\n",
    "# 검증\n",
    "# 훈련과 테스트 데이터를 각각 60,000개와 10,000개로 나눈 것을 알 수 있다.\n",
    "# 레이블에 대한 원핫 인코딩은 자동으로 적용된다.\n",
    "mnist = keras.datasets.mnist\n",
    "(X_train, Y_train), (X_test, Y_test) = mnist.load_data()"
   ]
  },
  {
   "cell_type": "code",
   "execution_count": 6,
   "metadata": {},
   "outputs": [],
   "source": [
    "# X_train은 60,000개의 행으로 28*28 값을 가진다. 이를 60,000 x 784로 변환\n",
    "RESHAPED = 784\n",
    "X_train = X_train.reshape(60000,RESHAPED)\n",
    "X_test = X_test.reshape(10000,RESHAPED)"
   ]
  },
  {
   "cell_type": "code",
   "execution_count": 7,
   "metadata": {},
   "outputs": [],
   "source": [
    "X_train=X_train.astype('float32')\n",
    "X_test = X_test.astype('float32')"
   ]
  },
  {
   "cell_type": "code",
   "execution_count": 8,
   "metadata": {},
   "outputs": [
    {
     "name": "stdout",
     "output_type": "stream",
     "text": [
      "60000 train samples\n",
      "10000 test samples\n"
     ]
    }
   ],
   "source": [
    "# 입력을 [0, 1]사이로 정규화\n",
    "\n",
    "X_train /= 255\n",
    "X_test /=255\n",
    "print(X_train.shape[0], 'train samples')\n",
    "print(X_test.shape[0], 'test samples')"
   ]
  },
  {
   "cell_type": "code",
   "execution_count": 9,
   "metadata": {},
   "outputs": [],
   "source": [
    "#테이블을 One-Hot-Encoding\n",
    "Y_train = tf.keras.utils.to_categorical(Y_train, NB_CLASSES)\n",
    "Y_test = tf.keras.utils.to_categorical(Y_test, NB_CLASSES)"
   ]
  },
  {
   "cell_type": "markdown",
   "metadata": {},
   "source": [
    "## 모델 구축"
   ]
  },
  {
   "cell_type": "code",
   "execution_count": 10,
   "metadata": {},
   "outputs": [],
   "source": [
    "model = tf.keras.models.Sequential()\n",
    "model.add(keras.layers.Dense(N_HIDDEN,\n",
    "                            input_shape=(RESHAPED,),\n",
    "                            name='dense_layer',\n",
    "                            activation='relu'))\n",
    "model.add(keras.layers.Dropout(DROPOUT))\n",
    "model.add(keras.layers.Dense(N_HIDDEN,                    \n",
    "                            name='dense_layer_2',\n",
    "                            activation='relu'))\n",
    "model.add(keras.layers.Dropout(DROPOUT))\n",
    "model.add(keras.layers.Dense(NB_CLASSES,                    \n",
    "                            name='dense_layer_3',\n",
    "                            activation='softmax'))"
   ]
  },
  {
   "cell_type": "markdown",
   "metadata": {},
   "source": [
    "## 모델 요약"
   ]
  },
  {
   "cell_type": "code",
   "execution_count": 11,
   "metadata": {},
   "outputs": [
    {
     "name": "stdout",
     "output_type": "stream",
     "text": [
      "Model: \"sequential\"\n",
      "_________________________________________________________________\n",
      "Layer (type)                 Output Shape              Param #   \n",
      "=================================================================\n",
      "dense_layer (Dense)          (None, 128)               100480    \n",
      "_________________________________________________________________\n",
      "dropout (Dropout)            (None, 128)               0         \n",
      "_________________________________________________________________\n",
      "dense_layer_2 (Dense)        (None, 128)               16512     \n",
      "_________________________________________________________________\n",
      "dropout_1 (Dropout)          (None, 128)               0         \n",
      "_________________________________________________________________\n",
      "dense_layer_3 (Dense)        (None, 10)                1290      \n",
      "=================================================================\n",
      "Total params: 118,282\n",
      "Trainable params: 118,282\n",
      "Non-trainable params: 0\n",
      "_________________________________________________________________\n"
     ]
    }
   ],
   "source": [
    "model.summary()"
   ]
  },
  {
   "cell_type": "markdown",
   "metadata": {},
   "source": [
    "## 모델 컴파일"
   ]
  },
  {
   "cell_type": "code",
   "execution_count": 12,
   "metadata": {},
   "outputs": [],
   "source": [
    "model.compile(optimizer='RMSProp',\n",
    "              loss='categorical_crossentropy',\n",
    "              metrics=['accuracy'])"
   ]
  },
  {
   "cell_type": "markdown",
   "metadata": {},
   "source": [
    "## 모델 훈련"
   ]
  },
  {
   "cell_type": "code",
   "execution_count": 13,
   "metadata": {},
   "outputs": [
    {
     "name": "stdout",
     "output_type": "stream",
     "text": [
      "Epoch 1/200\n",
      "375/375 [==============================] - 1s 3ms/step - loss: 0.4687 - accuracy: 0.8602 - val_loss: 0.1889 - val_accuracy: 0.9433\n",
      "Epoch 2/200\n",
      "375/375 [==============================] - 1s 2ms/step - loss: 0.2255 - accuracy: 0.9331 - val_loss: 0.1466 - val_accuracy: 0.9572\n",
      "Epoch 3/200\n",
      "375/375 [==============================] - 1s 2ms/step - loss: 0.1751 - accuracy: 0.9491 - val_loss: 0.1115 - val_accuracy: 0.9678\n",
      "Epoch 4/200\n",
      "375/375 [==============================] - 1s 2ms/step - loss: 0.1502 - accuracy: 0.9557 - val_loss: 0.1089 - val_accuracy: 0.9675\n",
      "Epoch 5/200\n",
      "375/375 [==============================] - 1s 2ms/step - loss: 0.1289 - accuracy: 0.9609 - val_loss: 0.1071 - val_accuracy: 0.9692\n",
      "Epoch 6/200\n",
      "375/375 [==============================] - 1s 2ms/step - loss: 0.1189 - accuracy: 0.9650 - val_loss: 0.1020 - val_accuracy: 0.9728\n",
      "Epoch 7/200\n",
      "375/375 [==============================] - 1s 2ms/step - loss: 0.1078 - accuracy: 0.9675 - val_loss: 0.1022 - val_accuracy: 0.9724\n",
      "Epoch 8/200\n",
      "375/375 [==============================] - 1s 2ms/step - loss: 0.1017 - accuracy: 0.9694 - val_loss: 0.0958 - val_accuracy: 0.9754\n",
      "Epoch 9/200\n",
      "375/375 [==============================] - 1s 2ms/step - loss: 0.0964 - accuracy: 0.9712 - val_loss: 0.0989 - val_accuracy: 0.9741\n",
      "Epoch 10/200\n",
      "375/375 [==============================] - 1s 2ms/step - loss: 0.0909 - accuracy: 0.9733 - val_loss: 0.0962 - val_accuracy: 0.9754\n",
      "Epoch 11/200\n",
      "375/375 [==============================] - 1s 2ms/step - loss: 0.0863 - accuracy: 0.9741 - val_loss: 0.0979 - val_accuracy: 0.9748\n",
      "Epoch 12/200\n",
      "375/375 [==============================] - 1s 2ms/step - loss: 0.0832 - accuracy: 0.9748 - val_loss: 0.0959 - val_accuracy: 0.9755\n",
      "Epoch 13/200\n",
      "375/375 [==============================] - 1s 2ms/step - loss: 0.0798 - accuracy: 0.9770 - val_loss: 0.0994 - val_accuracy: 0.9768\n",
      "Epoch 14/200\n",
      "375/375 [==============================] - 1s 3ms/step - loss: 0.0765 - accuracy: 0.9773 - val_loss: 0.0967 - val_accuracy: 0.9774\n",
      "Epoch 15/200\n",
      "375/375 [==============================] - 1s 3ms/step - loss: 0.0766 - accuracy: 0.9772 - val_loss: 0.0982 - val_accuracy: 0.9767\n",
      "Epoch 16/200\n",
      "375/375 [==============================] - 1s 3ms/step - loss: 0.0733 - accuracy: 0.9788 - val_loss: 0.1025 - val_accuracy: 0.9773\n",
      "Epoch 17/200\n",
      "375/375 [==============================] - 1s 3ms/step - loss: 0.0718 - accuracy: 0.9790 - val_loss: 0.1047 - val_accuracy: 0.9767\n",
      "Epoch 18/200\n",
      "375/375 [==============================] - 1s 2ms/step - loss: 0.0679 - accuracy: 0.9795 - val_loss: 0.1091 - val_accuracy: 0.9766\n",
      "Epoch 19/200\n",
      "375/375 [==============================] - 1s 2ms/step - loss: 0.0656 - accuracy: 0.9806 - val_loss: 0.1050 - val_accuracy: 0.9761\n",
      "Epoch 20/200\n",
      "375/375 [==============================] - 1s 2ms/step - loss: 0.0659 - accuracy: 0.9807 - val_loss: 0.1091 - val_accuracy: 0.9770\n",
      "Epoch 21/200\n",
      "375/375 [==============================] - 1s 2ms/step - loss: 0.0655 - accuracy: 0.9805 - val_loss: 0.1146 - val_accuracy: 0.9770\n",
      "Epoch 22/200\n",
      "375/375 [==============================] - 1s 2ms/step - loss: 0.0652 - accuracy: 0.9817 - val_loss: 0.1132 - val_accuracy: 0.9765\n",
      "Epoch 23/200\n",
      "375/375 [==============================] - 1s 2ms/step - loss: 0.0634 - accuracy: 0.9822 - val_loss: 0.1152 - val_accuracy: 0.9771\n",
      "Epoch 24/200\n",
      "375/375 [==============================] - 1s 2ms/step - loss: 0.0651 - accuracy: 0.9813 - val_loss: 0.1131 - val_accuracy: 0.9768\n",
      "Epoch 25/200\n",
      "375/375 [==============================] - 1s 2ms/step - loss: 0.0610 - accuracy: 0.9826 - val_loss: 0.1186 - val_accuracy: 0.9774\n",
      "Epoch 26/200\n",
      "375/375 [==============================] - 1s 2ms/step - loss: 0.0607 - accuracy: 0.9828 - val_loss: 0.1254 - val_accuracy: 0.9768\n",
      "Epoch 27/200\n",
      "375/375 [==============================] - 1s 3ms/step - loss: 0.0594 - accuracy: 0.9824 - val_loss: 0.1207 - val_accuracy: 0.9776\n",
      "Epoch 28/200\n",
      "375/375 [==============================] - 1s 2ms/step - loss: 0.0595 - accuracy: 0.9832 - val_loss: 0.1190 - val_accuracy: 0.9779\n",
      "Epoch 29/200\n",
      "375/375 [==============================] - 1s 3ms/step - loss: 0.0593 - accuracy: 0.9836 - val_loss: 0.1302 - val_accuracy: 0.9764\n",
      "Epoch 30/200\n",
      "375/375 [==============================] - 1s 3ms/step - loss: 0.0552 - accuracy: 0.9832 - val_loss: 0.1350 - val_accuracy: 0.9780\n",
      "Epoch 31/200\n",
      "375/375 [==============================] - 1s 2ms/step - loss: 0.0593 - accuracy: 0.9841 - val_loss: 0.1306 - val_accuracy: 0.9776\n",
      "Epoch 32/200\n",
      "375/375 [==============================] - 1s 2ms/step - loss: 0.0564 - accuracy: 0.9843 - val_loss: 0.1284 - val_accuracy: 0.9762\n",
      "Epoch 33/200\n",
      "375/375 [==============================] - 1s 2ms/step - loss: 0.0569 - accuracy: 0.9841 - val_loss: 0.1309 - val_accuracy: 0.9778\n",
      "Epoch 34/200\n",
      "375/375 [==============================] - 1s 2ms/step - loss: 0.0581 - accuracy: 0.9831 - val_loss: 0.1292 - val_accuracy: 0.9781\n",
      "Epoch 35/200\n",
      "375/375 [==============================] - 1s 2ms/step - loss: 0.0532 - accuracy: 0.9856 - val_loss: 0.1386 - val_accuracy: 0.9772\n",
      "Epoch 36/200\n",
      "375/375 [==============================] - 1s 2ms/step - loss: 0.0533 - accuracy: 0.9852 - val_loss: 0.1326 - val_accuracy: 0.9778\n",
      "Epoch 37/200\n",
      "375/375 [==============================] - 1s 2ms/step - loss: 0.0535 - accuracy: 0.9849 - val_loss: 0.1407 - val_accuracy: 0.9777\n",
      "Epoch 38/200\n",
      "375/375 [==============================] - 1s 2ms/step - loss: 0.0560 - accuracy: 0.9849 - val_loss: 0.1425 - val_accuracy: 0.9776\n",
      "Epoch 39/200\n",
      "375/375 [==============================] - 1s 2ms/step - loss: 0.0551 - accuracy: 0.9859 - val_loss: 0.1402 - val_accuracy: 0.9782\n",
      "Epoch 40/200\n",
      "375/375 [==============================] - 1s 2ms/step - loss: 0.0533 - accuracy: 0.9847 - val_loss: 0.1366 - val_accuracy: 0.9767\n",
      "Epoch 41/200\n",
      "375/375 [==============================] - 1s 2ms/step - loss: 0.0545 - accuracy: 0.9849 - val_loss: 0.1433 - val_accuracy: 0.9772\n",
      "Epoch 42/200\n",
      "375/375 [==============================] - 1s 2ms/step - loss: 0.0554 - accuracy: 0.9858 - val_loss: 0.1382 - val_accuracy: 0.9787\n",
      "Epoch 43/200\n",
      "375/375 [==============================] - 1s 2ms/step - loss: 0.0519 - accuracy: 0.9855 - val_loss: 0.1459 - val_accuracy: 0.9772\n",
      "Epoch 44/200\n",
      "375/375 [==============================] - 1s 2ms/step - loss: 0.0518 - accuracy: 0.9855 - val_loss: 0.1467 - val_accuracy: 0.9781\n",
      "Epoch 45/200\n",
      "375/375 [==============================] - 1s 3ms/step - loss: 0.0519 - accuracy: 0.9857 - val_loss: 0.1452 - val_accuracy: 0.9786\n",
      "Epoch 46/200\n",
      "375/375 [==============================] - 1s 2ms/step - loss: 0.0505 - accuracy: 0.9868 - val_loss: 0.1576 - val_accuracy: 0.9783\n",
      "Epoch 47/200\n",
      "375/375 [==============================] - 1s 2ms/step - loss: 0.0504 - accuracy: 0.9860 - val_loss: 0.1491 - val_accuracy: 0.9778\n",
      "Epoch 48/200\n",
      "375/375 [==============================] - 1s 2ms/step - loss: 0.0492 - accuracy: 0.9866 - val_loss: 0.1516 - val_accuracy: 0.9775\n",
      "Epoch 49/200\n",
      "375/375 [==============================] - 1s 2ms/step - loss: 0.0532 - accuracy: 0.9860 - val_loss: 0.1516 - val_accuracy: 0.9778\n",
      "Epoch 50/200\n",
      "375/375 [==============================] - 1s 2ms/step - loss: 0.0513 - accuracy: 0.9865 - val_loss: 0.1484 - val_accuracy: 0.9767\n",
      "Epoch 51/200\n",
      "375/375 [==============================] - 1s 2ms/step - loss: 0.0509 - accuracy: 0.9866 - val_loss: 0.1473 - val_accuracy: 0.9783\n",
      "Epoch 52/200\n",
      "375/375 [==============================] - 1s 2ms/step - loss: 0.0490 - accuracy: 0.9861 - val_loss: 0.1553 - val_accuracy: 0.9781\n",
      "Epoch 53/200\n",
      "375/375 [==============================] - 1s 3ms/step - loss: 0.0538 - accuracy: 0.9859 - val_loss: 0.1620 - val_accuracy: 0.9776\n",
      "Epoch 54/200\n",
      "375/375 [==============================] - 1s 2ms/step - loss: 0.0544 - accuracy: 0.9860 - val_loss: 0.1693 - val_accuracy: 0.9776\n",
      "Epoch 55/200\n",
      "375/375 [==============================] - 1s 2ms/step - loss: 0.0517 - accuracy: 0.9866 - val_loss: 0.1643 - val_accuracy: 0.9766\n",
      "Epoch 56/200\n",
      "375/375 [==============================] - 1s 2ms/step - loss: 0.0532 - accuracy: 0.9862 - val_loss: 0.1679 - val_accuracy: 0.9773\n",
      "Epoch 57/200\n",
      "375/375 [==============================] - 1s 2ms/step - loss: 0.0463 - accuracy: 0.9877 - val_loss: 0.1684 - val_accuracy: 0.9777\n"
     ]
    },
    {
     "name": "stdout",
     "output_type": "stream",
     "text": [
      "Epoch 58/200\n",
      "375/375 [==============================] - 1s 2ms/step - loss: 0.0517 - accuracy: 0.9866 - val_loss: 0.1813 - val_accuracy: 0.9770\n",
      "Epoch 59/200\n",
      "375/375 [==============================] - 1s 2ms/step - loss: 0.0479 - accuracy: 0.9876 - val_loss: 0.1767 - val_accuracy: 0.9787\n",
      "Epoch 60/200\n",
      "375/375 [==============================] - 1s 2ms/step - loss: 0.0495 - accuracy: 0.9869 - val_loss: 0.1707 - val_accuracy: 0.9783\n",
      "Epoch 61/200\n",
      "375/375 [==============================] - 1s 2ms/step - loss: 0.0484 - accuracy: 0.9874 - val_loss: 0.1731 - val_accuracy: 0.9766\n",
      "Epoch 62/200\n",
      "375/375 [==============================] - 1s 2ms/step - loss: 0.0494 - accuracy: 0.9878 - val_loss: 0.1908 - val_accuracy: 0.9776\n",
      "Epoch 63/200\n",
      "375/375 [==============================] - 1s 2ms/step - loss: 0.0480 - accuracy: 0.9869 - val_loss: 0.1814 - val_accuracy: 0.9786\n",
      "Epoch 64/200\n",
      "375/375 [==============================] - 1s 2ms/step - loss: 0.0472 - accuracy: 0.9881 - val_loss: 0.1810 - val_accuracy: 0.9779\n",
      "Epoch 65/200\n",
      "375/375 [==============================] - 1s 2ms/step - loss: 0.0494 - accuracy: 0.9875 - val_loss: 0.1715 - val_accuracy: 0.9785\n",
      "Epoch 66/200\n",
      "375/375 [==============================] - 1s 2ms/step - loss: 0.0480 - accuracy: 0.9870 - val_loss: 0.1787 - val_accuracy: 0.9785\n",
      "Epoch 67/200\n",
      "375/375 [==============================] - 1s 2ms/step - loss: 0.0482 - accuracy: 0.9876 - val_loss: 0.1815 - val_accuracy: 0.9787\n",
      "Epoch 68/200\n",
      "375/375 [==============================] - 1s 2ms/step - loss: 0.0484 - accuracy: 0.9876 - val_loss: 0.1893 - val_accuracy: 0.9784\n",
      "Epoch 69/200\n",
      "375/375 [==============================] - 1s 2ms/step - loss: 0.0530 - accuracy: 0.9872 - val_loss: 0.1872 - val_accuracy: 0.9787\n",
      "Epoch 70/200\n",
      "375/375 [==============================] - 1s 2ms/step - loss: 0.0502 - accuracy: 0.9874 - val_loss: 0.1757 - val_accuracy: 0.9785\n",
      "Epoch 71/200\n",
      "375/375 [==============================] - 1s 2ms/step - loss: 0.0522 - accuracy: 0.9874 - val_loss: 0.1873 - val_accuracy: 0.9781\n",
      "Epoch 72/200\n",
      "375/375 [==============================] - 1s 2ms/step - loss: 0.0495 - accuracy: 0.9876 - val_loss: 0.1933 - val_accuracy: 0.9779\n",
      "Epoch 73/200\n",
      "375/375 [==============================] - 1s 2ms/step - loss: 0.0488 - accuracy: 0.9879 - val_loss: 0.1987 - val_accuracy: 0.9786\n",
      "Epoch 74/200\n",
      "375/375 [==============================] - 1s 2ms/step - loss: 0.0486 - accuracy: 0.9883 - val_loss: 0.1911 - val_accuracy: 0.9789\n",
      "Epoch 75/200\n",
      "375/375 [==============================] - 1s 2ms/step - loss: 0.0543 - accuracy: 0.9877 - val_loss: 0.1793 - val_accuracy: 0.9776\n",
      "Epoch 76/200\n",
      "375/375 [==============================] - 1s 2ms/step - loss: 0.0525 - accuracy: 0.9873 - val_loss: 0.1882 - val_accuracy: 0.9783\n",
      "Epoch 77/200\n",
      "375/375 [==============================] - 1s 2ms/step - loss: 0.0493 - accuracy: 0.9878 - val_loss: 0.1858 - val_accuracy: 0.9783\n",
      "Epoch 78/200\n",
      "375/375 [==============================] - 1s 3ms/step - loss: 0.0511 - accuracy: 0.9879 - val_loss: 0.2063 - val_accuracy: 0.9787\n",
      "Epoch 79/200\n",
      "375/375 [==============================] - 1s 2ms/step - loss: 0.0489 - accuracy: 0.9878 - val_loss: 0.1972 - val_accuracy: 0.9772\n",
      "Epoch 80/200\n",
      "375/375 [==============================] - 1s 2ms/step - loss: 0.0501 - accuracy: 0.9877 - val_loss: 0.2020 - val_accuracy: 0.9779\n",
      "Epoch 81/200\n",
      "375/375 [==============================] - 1s 2ms/step - loss: 0.0504 - accuracy: 0.9876 - val_loss: 0.1980 - val_accuracy: 0.9795\n",
      "Epoch 82/200\n",
      "375/375 [==============================] - 1s 2ms/step - loss: 0.0520 - accuracy: 0.9881 - val_loss: 0.1894 - val_accuracy: 0.9784\n",
      "Epoch 83/200\n",
      "375/375 [==============================] - 1s 2ms/step - loss: 0.0477 - accuracy: 0.9884 - val_loss: 0.2084 - val_accuracy: 0.9790\n",
      "Epoch 84/200\n",
      "375/375 [==============================] - 1s 2ms/step - loss: 0.0482 - accuracy: 0.9881 - val_loss: 0.2144 - val_accuracy: 0.9795\n",
      "Epoch 85/200\n",
      "375/375 [==============================] - 1s 2ms/step - loss: 0.0469 - accuracy: 0.9885 - val_loss: 0.2022 - val_accuracy: 0.9786\n",
      "Epoch 86/200\n",
      "375/375 [==============================] - 1s 2ms/step - loss: 0.0496 - accuracy: 0.9885 - val_loss: 0.2061 - val_accuracy: 0.9785\n",
      "Epoch 87/200\n",
      "375/375 [==============================] - 1s 2ms/step - loss: 0.0530 - accuracy: 0.9876 - val_loss: 0.2056 - val_accuracy: 0.9783\n",
      "Epoch 88/200\n",
      "375/375 [==============================] - 1s 2ms/step - loss: 0.0457 - accuracy: 0.9889 - val_loss: 0.2128 - val_accuracy: 0.9784\n",
      "Epoch 89/200\n",
      "375/375 [==============================] - 1s 2ms/step - loss: 0.0487 - accuracy: 0.9888 - val_loss: 0.2157 - val_accuracy: 0.9775\n",
      "Epoch 90/200\n",
      "375/375 [==============================] - 1s 2ms/step - loss: 0.0484 - accuracy: 0.9889 - val_loss: 0.2145 - val_accuracy: 0.9775\n",
      "Epoch 91/200\n",
      "375/375 [==============================] - 1s 2ms/step - loss: 0.0506 - accuracy: 0.9884 - val_loss: 0.2155 - val_accuracy: 0.9772\n",
      "Epoch 92/200\n",
      "375/375 [==============================] - 1s 2ms/step - loss: 0.0467 - accuracy: 0.9888 - val_loss: 0.2206 - val_accuracy: 0.9774\n",
      "Epoch 93/200\n",
      "375/375 [==============================] - 1s 2ms/step - loss: 0.0452 - accuracy: 0.9899 - val_loss: 0.2103 - val_accuracy: 0.9787\n",
      "Epoch 94/200\n",
      "375/375 [==============================] - 1s 2ms/step - loss: 0.0511 - accuracy: 0.9884 - val_loss: 0.2240 - val_accuracy: 0.9776\n",
      "Epoch 95/200\n",
      "375/375 [==============================] - 1s 2ms/step - loss: 0.0448 - accuracy: 0.9886 - val_loss: 0.2213 - val_accuracy: 0.9790\n",
      "Epoch 96/200\n",
      "375/375 [==============================] - 1s 2ms/step - loss: 0.0476 - accuracy: 0.9890 - val_loss: 0.2097 - val_accuracy: 0.9788\n",
      "Epoch 97/200\n",
      "375/375 [==============================] - 1s 2ms/step - loss: 0.0510 - accuracy: 0.9894 - val_loss: 0.2230 - val_accuracy: 0.9779\n",
      "Epoch 98/200\n",
      "375/375 [==============================] - 1s 2ms/step - loss: 0.0511 - accuracy: 0.9886 - val_loss: 0.2337 - val_accuracy: 0.9777\n",
      "Epoch 99/200\n",
      "375/375 [==============================] - 1s 2ms/step - loss: 0.0527 - accuracy: 0.9881 - val_loss: 0.2268 - val_accuracy: 0.9794\n",
      "Epoch 100/200\n",
      "375/375 [==============================] - 1s 2ms/step - loss: 0.0511 - accuracy: 0.9884 - val_loss: 0.2468 - val_accuracy: 0.9784\n",
      "Epoch 101/200\n",
      "375/375 [==============================] - 1s 2ms/step - loss: 0.0523 - accuracy: 0.9885 - val_loss: 0.2431 - val_accuracy: 0.9780\n",
      "Epoch 102/200\n",
      "375/375 [==============================] - 1s 2ms/step - loss: 0.0516 - accuracy: 0.9886 - val_loss: 0.2288 - val_accuracy: 0.9797\n",
      "Epoch 103/200\n",
      "375/375 [==============================] - 1s 2ms/step - loss: 0.0500 - accuracy: 0.9885 - val_loss: 0.2279 - val_accuracy: 0.9777\n",
      "Epoch 104/200\n",
      "375/375 [==============================] - 1s 3ms/step - loss: 0.0515 - accuracy: 0.9885 - val_loss: 0.2373 - val_accuracy: 0.9785\n",
      "Epoch 105/200\n",
      "375/375 [==============================] - 1s 2ms/step - loss: 0.0479 - accuracy: 0.9896 - val_loss: 0.2400 - val_accuracy: 0.9788\n",
      "Epoch 106/200\n",
      "375/375 [==============================] - 1s 2ms/step - loss: 0.0542 - accuracy: 0.9883 - val_loss: 0.2193 - val_accuracy: 0.9787\n",
      "Epoch 107/200\n",
      "375/375 [==============================] - 1s 2ms/step - loss: 0.0458 - accuracy: 0.9896 - val_loss: 0.2414 - val_accuracy: 0.9792\n",
      "Epoch 108/200\n",
      "375/375 [==============================] - 1s 2ms/step - loss: 0.0507 - accuracy: 0.9884 - val_loss: 0.2319 - val_accuracy: 0.9782\n",
      "Epoch 109/200\n",
      "375/375 [==============================] - 1s 2ms/step - loss: 0.0521 - accuracy: 0.9885 - val_loss: 0.2262 - val_accuracy: 0.9793\n",
      "Epoch 110/200\n",
      "375/375 [==============================] - 1s 2ms/step - loss: 0.0478 - accuracy: 0.9890 - val_loss: 0.2339 - val_accuracy: 0.9788\n",
      "Epoch 111/200\n",
      "375/375 [==============================] - 1s 2ms/step - loss: 0.0537 - accuracy: 0.9886 - val_loss: 0.2422 - val_accuracy: 0.9784\n",
      "Epoch 112/200\n",
      "375/375 [==============================] - 1s 2ms/step - loss: 0.0496 - accuracy: 0.9885 - val_loss: 0.2340 - val_accuracy: 0.9782\n",
      "Epoch 113/200\n",
      "375/375 [==============================] - 1s 2ms/step - loss: 0.0507 - accuracy: 0.9888 - val_loss: 0.2356 - val_accuracy: 0.9782\n",
      "Epoch 114/200\n",
      "375/375 [==============================] - 1s 2ms/step - loss: 0.0520 - accuracy: 0.9883 - val_loss: 0.2494 - val_accuracy: 0.9778\n"
     ]
    },
    {
     "name": "stdout",
     "output_type": "stream",
     "text": [
      "Epoch 115/200\n",
      "375/375 [==============================] - 1s 2ms/step - loss: 0.0517 - accuracy: 0.9885 - val_loss: 0.2544 - val_accuracy: 0.9787\n",
      "Epoch 116/200\n",
      "375/375 [==============================] - 1s 2ms/step - loss: 0.0488 - accuracy: 0.9896 - val_loss: 0.2572 - val_accuracy: 0.9780\n",
      "Epoch 117/200\n",
      "375/375 [==============================] - 1s 2ms/step - loss: 0.0433 - accuracy: 0.9901 - val_loss: 0.2465 - val_accuracy: 0.9792\n",
      "Epoch 118/200\n",
      "375/375 [==============================] - 1s 2ms/step - loss: 0.0480 - accuracy: 0.9894 - val_loss: 0.2729 - val_accuracy: 0.9777\n",
      "Epoch 119/200\n",
      "375/375 [==============================] - 1s 2ms/step - loss: 0.0458 - accuracy: 0.9899 - val_loss: 0.2317 - val_accuracy: 0.9791\n",
      "Epoch 120/200\n",
      "375/375 [==============================] - 1s 2ms/step - loss: 0.0477 - accuracy: 0.9895 - val_loss: 0.2486 - val_accuracy: 0.9790\n",
      "Epoch 121/200\n",
      "375/375 [==============================] - 1s 2ms/step - loss: 0.0453 - accuracy: 0.9895 - val_loss: 0.2703 - val_accuracy: 0.9792\n",
      "Epoch 122/200\n",
      "375/375 [==============================] - 1s 2ms/step - loss: 0.0490 - accuracy: 0.9898 - val_loss: 0.2547 - val_accuracy: 0.9776\n",
      "Epoch 123/200\n",
      "375/375 [==============================] - 1s 2ms/step - loss: 0.0475 - accuracy: 0.9896 - val_loss: 0.2625 - val_accuracy: 0.9779\n",
      "Epoch 124/200\n",
      "375/375 [==============================] - 1s 2ms/step - loss: 0.0509 - accuracy: 0.9893 - val_loss: 0.2455 - val_accuracy: 0.9776\n",
      "Epoch 125/200\n",
      "375/375 [==============================] - 1s 2ms/step - loss: 0.0534 - accuracy: 0.9890 - val_loss: 0.2537 - val_accuracy: 0.9778\n",
      "Epoch 126/200\n",
      "375/375 [==============================] - 1s 2ms/step - loss: 0.0494 - accuracy: 0.9893 - val_loss: 0.2608 - val_accuracy: 0.9793\n",
      "Epoch 127/200\n",
      "375/375 [==============================] - 1s 3ms/step - loss: 0.0478 - accuracy: 0.9890 - val_loss: 0.2623 - val_accuracy: 0.9793\n",
      "Epoch 128/200\n",
      "375/375 [==============================] - 1s 2ms/step - loss: 0.0550 - accuracy: 0.9886 - val_loss: 0.2592 - val_accuracy: 0.9787\n",
      "Epoch 129/200\n",
      "375/375 [==============================] - 1s 2ms/step - loss: 0.0475 - accuracy: 0.9891 - val_loss: 0.2583 - val_accuracy: 0.9787\n",
      "Epoch 130/200\n",
      "375/375 [==============================] - 1s 2ms/step - loss: 0.0518 - accuracy: 0.9884 - val_loss: 0.2520 - val_accuracy: 0.9792\n",
      "Epoch 131/200\n",
      "375/375 [==============================] - 1s 2ms/step - loss: 0.0493 - accuracy: 0.9887 - val_loss: 0.2493 - val_accuracy: 0.9793\n",
      "Epoch 132/200\n",
      "375/375 [==============================] - 1s 2ms/step - loss: 0.0500 - accuracy: 0.9894 - val_loss: 0.2461 - val_accuracy: 0.9781\n",
      "Epoch 133/200\n",
      "375/375 [==============================] - 1s 2ms/step - loss: 0.0518 - accuracy: 0.9887 - val_loss: 0.2681 - val_accuracy: 0.9769\n",
      "Epoch 134/200\n",
      "375/375 [==============================] - 1s 2ms/step - loss: 0.0524 - accuracy: 0.9887 - val_loss: 0.2651 - val_accuracy: 0.9784\n",
      "Epoch 135/200\n",
      "375/375 [==============================] - 1s 2ms/step - loss: 0.0521 - accuracy: 0.9894 - val_loss: 0.2720 - val_accuracy: 0.9778\n",
      "Epoch 136/200\n",
      "375/375 [==============================] - 1s 3ms/step - loss: 0.0487 - accuracy: 0.9894 - val_loss: 0.2690 - val_accuracy: 0.9783\n",
      "Epoch 137/200\n",
      "375/375 [==============================] - 1s 2ms/step - loss: 0.0526 - accuracy: 0.9890 - val_loss: 0.2712 - val_accuracy: 0.9786\n",
      "Epoch 138/200\n",
      "375/375 [==============================] - 1s 2ms/step - loss: 0.0472 - accuracy: 0.9892 - val_loss: 0.2584 - val_accuracy: 0.9792\n",
      "Epoch 139/200\n",
      "375/375 [==============================] - 1s 2ms/step - loss: 0.0520 - accuracy: 0.9896 - val_loss: 0.2747 - val_accuracy: 0.9784\n",
      "Epoch 140/200\n",
      "375/375 [==============================] - 1s 2ms/step - loss: 0.0533 - accuracy: 0.9891 - val_loss: 0.2676 - val_accuracy: 0.9783\n",
      "Epoch 141/200\n",
      "375/375 [==============================] - 1s 2ms/step - loss: 0.0472 - accuracy: 0.9897 - val_loss: 0.2748 - val_accuracy: 0.9783\n",
      "Epoch 142/200\n",
      "375/375 [==============================] - 1s 2ms/step - loss: 0.0489 - accuracy: 0.9896 - val_loss: 0.2801 - val_accuracy: 0.9786\n",
      "Epoch 143/200\n",
      "375/375 [==============================] - 1s 2ms/step - loss: 0.0507 - accuracy: 0.9894 - val_loss: 0.2870 - val_accuracy: 0.9780\n",
      "Epoch 144/200\n",
      "375/375 [==============================] - 1s 2ms/step - loss: 0.0452 - accuracy: 0.9901 - val_loss: 0.2894 - val_accuracy: 0.9789\n",
      "Epoch 145/200\n",
      "375/375 [==============================] - 1s 2ms/step - loss: 0.0520 - accuracy: 0.9898 - val_loss: 0.2891 - val_accuracy: 0.9787\n",
      "Epoch 146/200\n",
      "375/375 [==============================] - 1s 2ms/step - loss: 0.0506 - accuracy: 0.9895 - val_loss: 0.2887 - val_accuracy: 0.9778\n",
      "Epoch 147/200\n",
      "375/375 [==============================] - 1s 2ms/step - loss: 0.0557 - accuracy: 0.9891 - val_loss: 0.3019 - val_accuracy: 0.9775\n",
      "Epoch 148/200\n",
      "375/375 [==============================] - 1s 2ms/step - loss: 0.0473 - accuracy: 0.9894 - val_loss: 0.2966 - val_accuracy: 0.9775\n",
      "Epoch 149/200\n",
      "375/375 [==============================] - 1s 2ms/step - loss: 0.0509 - accuracy: 0.9890 - val_loss: 0.2898 - val_accuracy: 0.9777\n",
      "Epoch 150/200\n",
      "375/375 [==============================] - 1s 2ms/step - loss: 0.0528 - accuracy: 0.9894 - val_loss: 0.2801 - val_accuracy: 0.9773\n",
      "Epoch 151/200\n",
      "375/375 [==============================] - 1s 2ms/step - loss: 0.0499 - accuracy: 0.9895 - val_loss: 0.2947 - val_accuracy: 0.9787\n",
      "Epoch 152/200\n",
      "375/375 [==============================] - 1s 2ms/step - loss: 0.0489 - accuracy: 0.9894 - val_loss: 0.3019 - val_accuracy: 0.9782\n",
      "Epoch 153/200\n",
      "375/375 [==============================] - 1s 2ms/step - loss: 0.0494 - accuracy: 0.9899 - val_loss: 0.2751 - val_accuracy: 0.9783\n",
      "Epoch 154/200\n",
      "375/375 [==============================] - 1s 2ms/step - loss: 0.0520 - accuracy: 0.9888 - val_loss: 0.2770 - val_accuracy: 0.9783\n",
      "Epoch 155/200\n",
      "375/375 [==============================] - 1s 2ms/step - loss: 0.0524 - accuracy: 0.9885 - val_loss: 0.2784 - val_accuracy: 0.9793\n",
      "Epoch 156/200\n",
      "375/375 [==============================] - 1s 2ms/step - loss: 0.0537 - accuracy: 0.9894 - val_loss: 0.2852 - val_accuracy: 0.9780\n",
      "Epoch 157/200\n",
      "375/375 [==============================] - 1s 2ms/step - loss: 0.0547 - accuracy: 0.9894 - val_loss: 0.3012 - val_accuracy: 0.9777\n",
      "Epoch 158/200\n",
      "375/375 [==============================] - 1s 2ms/step - loss: 0.0572 - accuracy: 0.9891 - val_loss: 0.2701 - val_accuracy: 0.9783\n",
      "Epoch 159/200\n",
      "375/375 [==============================] - 1s 2ms/step - loss: 0.0517 - accuracy: 0.9901 - val_loss: 0.2934 - val_accuracy: 0.9782\n",
      "Epoch 160/200\n",
      "375/375 [==============================] - 1s 2ms/step - loss: 0.0519 - accuracy: 0.9896 - val_loss: 0.2889 - val_accuracy: 0.9795\n",
      "Epoch 161/200\n",
      "375/375 [==============================] - 1s 2ms/step - loss: 0.0509 - accuracy: 0.9896 - val_loss: 0.3095 - val_accuracy: 0.9789\n",
      "Epoch 162/200\n",
      "375/375 [==============================] - 1s 2ms/step - loss: 0.0596 - accuracy: 0.9885 - val_loss: 0.2587 - val_accuracy: 0.9787\n",
      "Epoch 163/200\n",
      "375/375 [==============================] - 1s 3ms/step - loss: 0.0491 - accuracy: 0.9895 - val_loss: 0.2966 - val_accuracy: 0.9772\n",
      "Epoch 164/200\n",
      "375/375 [==============================] - 1s 2ms/step - loss: 0.0549 - accuracy: 0.9890 - val_loss: 0.2978 - val_accuracy: 0.9778\n",
      "Epoch 165/200\n",
      "375/375 [==============================] - 1s 2ms/step - loss: 0.0516 - accuracy: 0.9896 - val_loss: 0.2984 - val_accuracy: 0.9788\n",
      "Epoch 166/200\n",
      "375/375 [==============================] - 1s 2ms/step - loss: 0.0495 - accuracy: 0.9898 - val_loss: 0.3070 - val_accuracy: 0.9781\n",
      "Epoch 167/200\n",
      "375/375 [==============================] - 1s 2ms/step - loss: 0.0493 - accuracy: 0.9903 - val_loss: 0.2949 - val_accuracy: 0.9780\n",
      "Epoch 168/200\n",
      "375/375 [==============================] - 1s 2ms/step - loss: 0.0489 - accuracy: 0.9896 - val_loss: 0.3040 - val_accuracy: 0.9793\n",
      "Epoch 169/200\n",
      "375/375 [==============================] - 1s 2ms/step - loss: 0.0565 - accuracy: 0.9893 - val_loss: 0.2994 - val_accuracy: 0.9784\n",
      "Epoch 170/200\n",
      "375/375 [==============================] - 1s 2ms/step - loss: 0.0457 - accuracy: 0.9901 - val_loss: 0.2963 - val_accuracy: 0.9791\n",
      "Epoch 171/200\n"
     ]
    },
    {
     "name": "stdout",
     "output_type": "stream",
     "text": [
      "375/375 [==============================] - 1s 2ms/step - loss: 0.0512 - accuracy: 0.9893 - val_loss: 0.3132 - val_accuracy: 0.9782\n",
      "Epoch 172/200\n",
      "375/375 [==============================] - 1s 2ms/step - loss: 0.0481 - accuracy: 0.9902 - val_loss: 0.2998 - val_accuracy: 0.9778\n",
      "Epoch 173/200\n",
      "375/375 [==============================] - 1s 2ms/step - loss: 0.0505 - accuracy: 0.9900 - val_loss: 0.3188 - val_accuracy: 0.9787\n",
      "Epoch 174/200\n",
      "375/375 [==============================] - 1s 3ms/step - loss: 0.0515 - accuracy: 0.9901 - val_loss: 0.3121 - val_accuracy: 0.9793\n",
      "Epoch 175/200\n",
      "375/375 [==============================] - 1s 3ms/step - loss: 0.0543 - accuracy: 0.9891 - val_loss: 0.3250 - val_accuracy: 0.9763\n",
      "Epoch 176/200\n",
      "375/375 [==============================] - 1s 2ms/step - loss: 0.0554 - accuracy: 0.9895 - val_loss: 0.3045 - val_accuracy: 0.9779\n",
      "Epoch 177/200\n",
      "375/375 [==============================] - 1s 2ms/step - loss: 0.0506 - accuracy: 0.9898 - val_loss: 0.2929 - val_accuracy: 0.9778\n",
      "Epoch 178/200\n",
      "375/375 [==============================] - 1s 2ms/step - loss: 0.0488 - accuracy: 0.9899 - val_loss: 0.3234 - val_accuracy: 0.9763\n",
      "Epoch 179/200\n",
      "375/375 [==============================] - 1s 2ms/step - loss: 0.0508 - accuracy: 0.9902 - val_loss: 0.2990 - val_accuracy: 0.9783\n",
      "Epoch 180/200\n",
      "375/375 [==============================] - 1s 2ms/step - loss: 0.0482 - accuracy: 0.9898 - val_loss: 0.3166 - val_accuracy: 0.9774\n",
      "Epoch 181/200\n",
      "375/375 [==============================] - 1s 2ms/step - loss: 0.0492 - accuracy: 0.9901 - val_loss: 0.3386 - val_accuracy: 0.9772\n",
      "Epoch 182/200\n",
      "375/375 [==============================] - 1s 2ms/step - loss: 0.0517 - accuracy: 0.9902 - val_loss: 0.3213 - val_accuracy: 0.9778\n",
      "Epoch 183/200\n",
      "375/375 [==============================] - 1s 2ms/step - loss: 0.0476 - accuracy: 0.9900 - val_loss: 0.3115 - val_accuracy: 0.9788\n",
      "Epoch 184/200\n",
      "375/375 [==============================] - 1s 2ms/step - loss: 0.0501 - accuracy: 0.9899 - val_loss: 0.3107 - val_accuracy: 0.9784\n",
      "Epoch 185/200\n",
      "375/375 [==============================] - 1s 2ms/step - loss: 0.0537 - accuracy: 0.9892 - val_loss: 0.3065 - val_accuracy: 0.9783\n",
      "Epoch 186/200\n",
      "375/375 [==============================] - 1s 2ms/step - loss: 0.0532 - accuracy: 0.9895 - val_loss: 0.3006 - val_accuracy: 0.9780\n",
      "Epoch 187/200\n",
      "375/375 [==============================] - 1s 2ms/step - loss: 0.0528 - accuracy: 0.9892 - val_loss: 0.3080 - val_accuracy: 0.9784\n",
      "Epoch 188/200\n",
      "375/375 [==============================] - 1s 2ms/step - loss: 0.0515 - accuracy: 0.9904 - val_loss: 0.3250 - val_accuracy: 0.9780\n",
      "Epoch 189/200\n",
      "375/375 [==============================] - 1s 2ms/step - loss: 0.0470 - accuracy: 0.9896 - val_loss: 0.3180 - val_accuracy: 0.9781\n",
      "Epoch 190/200\n",
      "375/375 [==============================] - 1s 3ms/step - loss: 0.0475 - accuracy: 0.9905 - val_loss: 0.3157 - val_accuracy: 0.9786\n",
      "Epoch 191/200\n",
      "375/375 [==============================] - 1s 2ms/step - loss: 0.0506 - accuracy: 0.9905 - val_loss: 0.3242 - val_accuracy: 0.9785\n",
      "Epoch 192/200\n",
      "375/375 [==============================] - 1s 2ms/step - loss: 0.0576 - accuracy: 0.9895 - val_loss: 0.3150 - val_accuracy: 0.9772\n",
      "Epoch 193/200\n",
      "375/375 [==============================] - 1s 2ms/step - loss: 0.0602 - accuracy: 0.9895 - val_loss: 0.3230 - val_accuracy: 0.9791\n",
      "Epoch 194/200\n",
      "375/375 [==============================] - 1s 2ms/step - loss: 0.0535 - accuracy: 0.9898 - val_loss: 0.3154 - val_accuracy: 0.9783\n",
      "Epoch 195/200\n",
      "375/375 [==============================] - 1s 2ms/step - loss: 0.0561 - accuracy: 0.9895 - val_loss: 0.3223 - val_accuracy: 0.9786\n",
      "Epoch 196/200\n",
      "375/375 [==============================] - 1s 2ms/step - loss: 0.0573 - accuracy: 0.9894 - val_loss: 0.3221 - val_accuracy: 0.9778\n",
      "Epoch 197/200\n",
      "375/375 [==============================] - 1s 2ms/step - loss: 0.0496 - accuracy: 0.9898 - val_loss: 0.3349 - val_accuracy: 0.9783\n",
      "Epoch 198/200\n",
      "375/375 [==============================] - 1s 2ms/step - loss: 0.0519 - accuracy: 0.9897 - val_loss: 0.3173 - val_accuracy: 0.9778\n",
      "Epoch 199/200\n",
      "375/375 [==============================] - 1s 2ms/step - loss: 0.0563 - accuracy: 0.9895 - val_loss: 0.3184 - val_accuracy: 0.9777\n",
      "Epoch 200/200\n",
      "375/375 [==============================] - 1s 2ms/step - loss: 0.0526 - accuracy: 0.9899 - val_loss: 0.3221 - val_accuracy: 0.9784\n"
     ]
    },
    {
     "data": {
      "text/plain": [
       "<tensorflow.python.keras.callbacks.History at 0x1d456366188>"
      ]
     },
     "execution_count": 13,
     "metadata": {},
     "output_type": "execute_result"
    }
   ],
   "source": [
    "model.fit(X_train, Y_train,\n",
    "         batch_size=BATCH_SIZE, epochs=EPOCHS,\n",
    "         verbose = VERBOSE, validation_split=VARIDATTON_SPLIT)"
   ]
  },
  {
   "cell_type": "markdown",
   "metadata": {},
   "source": [
    "## 모델 평가"
   ]
  },
  {
   "cell_type": "code",
   "execution_count": 14,
   "metadata": {},
   "outputs": [
    {
     "name": "stdout",
     "output_type": "stream",
     "text": [
      "313/313 [==============================] - 0s 593us/step - loss: 0.2714 - accuracy: 0.9767\n"
     ]
    }
   ],
   "source": [
    "test_loss, test_acc = model.evaluate(X_test,Y_test)"
   ]
  },
  {
   "cell_type": "code",
   "execution_count": 15,
   "metadata": {
    "scrolled": false
   },
   "outputs": [
    {
     "name": "stdout",
     "output_type": "stream",
     "text": [
      "Test accuracy :  0.9767000079154968\n"
     ]
    }
   ],
   "source": [
    "print('Test accuracy : ',test_acc)"
   ]
  },
  {
   "cell_type": "code",
   "execution_count": null,
   "metadata": {},
   "outputs": [],
   "source": []
  }
 ],
 "metadata": {
  "kernelspec": {
   "display_name": "Python 3",
   "language": "python",
   "name": "python3"
  },
  "language_info": {
   "codemirror_mode": {
    "name": "ipython",
    "version": 3
   },
   "file_extension": ".py",
   "mimetype": "text/x-python",
   "name": "python",
   "nbconvert_exporter": "python",
   "pygments_lexer": "ipython3",
   "version": "3.7.6"
  }
 },
 "nbformat": 4,
 "nbformat_minor": 4
}
