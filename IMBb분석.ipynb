{
  "nbformat": 4,
  "nbformat_minor": 0,
  "metadata": {
    "colab": {
      "name": "Mnist_.ipynb",
      "provenance": [],
      "collapsed_sections": [],
      "authorship_tag": "ABX9TyORsGissp+RptX5dIQuqMqK",
      "include_colab_link": true
    },
    "kernelspec": {
      "name": "python3",
      "display_name": "Python 3"
    }
  },
  "cells": [
    {
      "cell_type": "markdown",
      "metadata": {
        "id": "view-in-github",
        "colab_type": "text"
      },
      "source": [
        "<a href=\"https://colab.research.google.com/github/Yeo-Jun-Choi/DeepLearning/blob/master/IMBb%EB%B6%84%EC%84%9D.ipynb\" target=\"_parent\"><img src=\"https://colab.research.google.com/assets/colab-badge.svg\" alt=\"Open In Colab\"/></a>"
      ]
    },
    {
      "cell_type": "code",
      "metadata": {
        "id": "NxZcWuSYooHZ"
      },
      "source": [
        "import tensorflow as tf\n",
        "from tensorflow.keras import datasets, layers, models, preprocessing\n",
        "import tensorflow_datasets as tfds"
      ],
      "execution_count": 3,
      "outputs": []
    },
    {
      "cell_type": "code",
      "metadata": {
        "id": "js9lo2W5pQLy"
      },
      "source": [
        "max_len = 200\n",
        "n_words = 10000\n",
        "dim_embedding = 256\n",
        "EPOCHS = 20\n",
        "BATCH_SIZE = 500"
      ],
      "execution_count": 4,
      "outputs": []
    },
    {
      "cell_type": "code",
      "metadata": {
        "id": "A-8VkFMKptM8"
      },
      "source": [
        "def load_data():\n",
        "  #데이터 로드\n",
        "  (X_train, y_train), (X_test,y_test) = datasets.imdb.load_data(num_words=n_words)\n",
        "  #문장을 max_len이 되도록 채워 넣는다\n",
        "  X_train = preprocessing.sequence.pad_sequences(X_train, maxlen=max_len)\n",
        "  X_test = preprocessing.sequence.pad_sequences(X_test, maxlen=max_len)\n",
        "  return (X_train, y_train), (X_test,y_test)"
      ],
      "execution_count": 5,
      "outputs": []
    },
    {
      "cell_type": "code",
      "metadata": {
        "id": "LKHLlxAHqHsK"
      },
      "source": [
        "def build_model():\n",
        "  model = models.Sequential()\n",
        "  #입력 : - eEmbedding Layer\n",
        "  #모델은 크기의 정수 행렬을 입력으로 취한다(batch, input_length).\n",
        "  #모델의 출력은 차원이다. (input_length, dim_embedding).\n",
        "  #입력 중 가장 큰 정수는 n_words보다 작거나 같다(어휘 크기).\n",
        "  model.add(layers.Embedding(n_words,\n",
        "                             dim_embedding, input_length=max_len))\n",
        "  \n",
        "  model.add(layers.Dropout(0.3))\n",
        "\n",
        "  #각 n_words 특징에서 특정 벡터의 최댓값을 취한다.\n",
        "\n",
        "  model.add(layers.GlobalMaxPool1D())\n",
        "  model.add(layers.Dense(128,activation='relu'))\n",
        "  model.add(layers.Dropout(0.5))\n",
        "  model.add(layers.Dense(1,activation='sigmoid'))\n",
        "  return model"
      ],
      "execution_count": 10,
      "outputs": []
    },
    {
      "cell_type": "code",
      "metadata": {
        "id": "N7T7ne-cq_dv",
        "outputId": "df4576ec-b548-47cc-da1c-7466b1794a70",
        "colab": {
          "base_uri": "https://localhost:8080/",
          "height": 53
        }
      },
      "source": [
        "(X_train, y_train), (X_test,y_test) = load_data()"
      ],
      "execution_count": 7,
      "outputs": [
        {
          "output_type": "stream",
          "text": [
            "Downloading data from https://storage.googleapis.com/tensorflow/tf-keras-datasets/imdb.npz\n",
            "17465344/17464789 [==============================] - 0s 0us/step\n"
          ],
          "name": "stdout"
        }
      ]
    },
    {
      "cell_type": "code",
      "metadata": {
        "id": "XSSXDuZ7rF64",
        "outputId": "b2a30b2a-6ae9-4459-a90b-e5f286b86ed3",
        "colab": {
          "base_uri": "https://localhost:8080/",
          "height": 377
        }
      },
      "source": [
        "model = build_model()\n",
        "model.summary()"
      ],
      "execution_count": 11,
      "outputs": [
        {
          "output_type": "stream",
          "text": [
            "Model: \"sequential_2\"\n",
            "_________________________________________________________________\n",
            "Layer (type)                 Output Shape              Param #   \n",
            "=================================================================\n",
            "embedding_2 (Embedding)      (None, 200, 256)          2560000   \n",
            "_________________________________________________________________\n",
            "dropout (Dropout)            (None, 200, 256)          0         \n",
            "_________________________________________________________________\n",
            "global_max_pooling1d (Global (None, 256)               0         \n",
            "_________________________________________________________________\n",
            "dense (Dense)                (None, 128)               32896     \n",
            "_________________________________________________________________\n",
            "dropout_1 (Dropout)          (None, 128)               0         \n",
            "_________________________________________________________________\n",
            "dense_1 (Dense)              (None, 1)                 129       \n",
            "=================================================================\n",
            "Total params: 2,593,025\n",
            "Trainable params: 2,593,025\n",
            "Non-trainable params: 0\n",
            "_________________________________________________________________\n"
          ],
          "name": "stdout"
        }
      ]
    },
    {
      "cell_type": "code",
      "metadata": {
        "id": "ROEiHulgrKZA"
      },
      "source": [
        "model.compile(optimizer = \"adam\", loss = \"binary_crossentropy\", metrics = [\"accuracy\"])"
      ],
      "execution_count": 13,
      "outputs": []
    },
    {
      "cell_type": "code",
      "metadata": {
        "id": "CvOQFpE6rids",
        "outputId": "40898daf-3c2b-4fc5-e7ba-70fe968f2bf1",
        "colab": {
          "base_uri": "https://localhost:8080/",
          "height": 757
        }
      },
      "source": [
        "score = model.fit(X_train,y_train,\n",
        "                  epochs = EPOCHS,\n",
        "                  batch_size = BATCH_SIZE,\n",
        "                  validation_data = (X_test,y_test))"
      ],
      "execution_count": 15,
      "outputs": [
        {
          "output_type": "stream",
          "text": [
            "Epoch 1/20\n",
            "50/50 [==============================] - 24s 486ms/step - loss: 0.6715 - accuracy: 0.6278 - val_loss: 0.6270 - val_accuracy: 0.8368\n",
            "Epoch 2/20\n",
            "50/50 [==============================] - 25s 497ms/step - loss: 0.4495 - accuracy: 0.8428 - val_loss: 0.3605 - val_accuracy: 0.8568\n",
            "Epoch 3/20\n",
            "50/50 [==============================] - 24s 476ms/step - loss: 0.2763 - accuracy: 0.8869 - val_loss: 0.3048 - val_accuracy: 0.8736\n",
            "Epoch 4/20\n",
            "50/50 [==============================] - 24s 476ms/step - loss: 0.2122 - accuracy: 0.9180 - val_loss: 0.2911 - val_accuracy: 0.8778\n",
            "Epoch 5/20\n",
            "50/50 [==============================] - 27s 531ms/step - loss: 0.1701 - accuracy: 0.9382 - val_loss: 0.2921 - val_accuracy: 0.8752\n",
            "Epoch 6/20\n",
            "50/50 [==============================] - 24s 481ms/step - loss: 0.1312 - accuracy: 0.9548 - val_loss: 0.2974 - val_accuracy: 0.8716\n",
            "Epoch 7/20\n",
            "50/50 [==============================] - 24s 471ms/step - loss: 0.0988 - accuracy: 0.9697 - val_loss: 0.3068 - val_accuracy: 0.8690\n",
            "Epoch 8/20\n",
            "50/50 [==============================] - 24s 471ms/step - loss: 0.0779 - accuracy: 0.9767 - val_loss: 0.3191 - val_accuracy: 0.8658\n",
            "Epoch 9/20\n",
            "50/50 [==============================] - 23s 469ms/step - loss: 0.0571 - accuracy: 0.9852 - val_loss: 0.3372 - val_accuracy: 0.8632\n",
            "Epoch 10/20\n",
            "50/50 [==============================] - 24s 471ms/step - loss: 0.0427 - accuracy: 0.9903 - val_loss: 0.3558 - val_accuracy: 0.8590\n",
            "Epoch 11/20\n",
            "50/50 [==============================] - 24s 471ms/step - loss: 0.0329 - accuracy: 0.9932 - val_loss: 0.3737 - val_accuracy: 0.8564\n",
            "Epoch 12/20\n",
            "50/50 [==============================] - 23s 470ms/step - loss: 0.0242 - accuracy: 0.9956 - val_loss: 0.3895 - val_accuracy: 0.8565\n",
            "Epoch 13/20\n",
            "50/50 [==============================] - 24s 471ms/step - loss: 0.0195 - accuracy: 0.9962 - val_loss: 0.4081 - val_accuracy: 0.8557\n",
            "Epoch 14/20\n",
            "50/50 [==============================] - 24s 471ms/step - loss: 0.0156 - accuracy: 0.9973 - val_loss: 0.4235 - val_accuracy: 0.8536\n",
            "Epoch 15/20\n",
            "50/50 [==============================] - 24s 478ms/step - loss: 0.0127 - accuracy: 0.9979 - val_loss: 0.4377 - val_accuracy: 0.8527\n",
            "Epoch 16/20\n",
            "50/50 [==============================] - 24s 480ms/step - loss: 0.0111 - accuracy: 0.9981 - val_loss: 0.4537 - val_accuracy: 0.8521\n",
            "Epoch 17/20\n",
            "50/50 [==============================] - 24s 474ms/step - loss: 0.0088 - accuracy: 0.9986 - val_loss: 0.4672 - val_accuracy: 0.8497\n",
            "Epoch 18/20\n",
            "50/50 [==============================] - 24s 471ms/step - loss: 0.0074 - accuracy: 0.9989 - val_loss: 0.4755 - val_accuracy: 0.8508\n",
            "Epoch 19/20\n",
            "50/50 [==============================] - 24s 471ms/step - loss: 0.0070 - accuracy: 0.9990 - val_loss: 0.4865 - val_accuracy: 0.8505\n",
            "Epoch 20/20\n",
            "50/50 [==============================] - 23s 470ms/step - loss: 0.0059 - accuracy: 0.9990 - val_loss: 0.4991 - val_accuracy: 0.8506\n"
          ],
          "name": "stdout"
        }
      ]
    },
    {
      "cell_type": "code",
      "metadata": {
        "id": "vJ5q9RtNryJf",
        "outputId": "d3a1a5f9-4635-4a45-cb8d-5dd571e33a77",
        "colab": {
          "base_uri": "https://localhost:8080/",
          "height": 89
        }
      },
      "source": [
        "score = model.evaluate(X_test,y_test,batch_size = BATCH_SIZE)\n",
        "print(\"\\nTest score : \", score[0])\n",
        "print(\"Test accuracy : \", score[1])"
      ],
      "execution_count": 16,
      "outputs": [
        {
          "output_type": "stream",
          "text": [
            "50/50 [==============================] - 2s 41ms/step - loss: 0.4991 - accuracy: 0.8506\n",
            "\n",
            "Test score :  0.4991203248500824\n",
            "Test accuracy :  0.8506399989128113\n"
          ],
          "name": "stdout"
        }
      ]
    },
    {
      "cell_type": "code",
      "metadata": {
        "id": "DmmryHiJuf9V"
      },
      "source": [
        ""
      ],
      "execution_count": null,
      "outputs": []
    }
  ]
}