{
 "cells": [
  {
   "cell_type": "markdown",
   "metadata": {},
   "source": [
    "# TensorFlow 드롭아웃으로 단순망 개선"
   ]
  },
  {
   "cell_type": "code",
   "execution_count": 24,
   "metadata": {},
   "outputs": [],
   "source": [
    "import tensorflow as tf"
   ]
  },
  {
   "cell_type": "code",
   "execution_count": 25,
   "metadata": {},
   "outputs": [],
   "source": [
    "import matplotlib\n",
    "import sklearn\n",
    "import numpy as np"
   ]
  },
  {
   "cell_type": "code",
   "execution_count": 26,
   "metadata": {},
   "outputs": [],
   "source": [
    "from tensorflow import keras"
   ]
  },
  {
   "cell_type": "code",
   "execution_count": 27,
   "metadata": {},
   "outputs": [],
   "source": [
    "#신경망과 훈련 매개변수\n",
    "EPOCHS = 200\n",
    "BATCH_SIZE = 128\n",
    "VERBOSE = 1\n",
    "NB_CLASSES = 10 #출력개수 = 숫자 개수\n",
    "N_HIDDEN = 128\n",
    "VARIDATTON_SPLIT=0.2\n",
    "DROPOUT = 0.3"
   ]
  },
  {
   "cell_type": "code",
   "execution_count": 28,
   "metadata": {},
   "outputs": [],
   "source": [
    "# MNIST 데이터셋 로드\n",
    "# 검증\n",
    "# 훈련과 테스트 데이터를 각각 60,000개와 10,000개로 나눈 것을 알 수 있다.\n",
    "# 레이블에 대한 원핫 인코딩은 자동으로 적용된다.\n",
    "mnist = keras.datasets.mnist\n",
    "(X_train, Y_train), (X_test, Y_test) = mnist.load_data()"
   ]
  },
  {
   "cell_type": "code",
   "execution_count": 29,
   "metadata": {},
   "outputs": [],
   "source": [
    "# X_train은 60,000개의 행으로 28*28 값을 가진다. 이를 60,000 x 784로 변환\n",
    "RESHAPED = 784\n",
    "X_train = X_train.reshape(60000,RESHAPED)\n",
    "X_test = X_test.reshape(10000,RESHAPED)"
   ]
  },
  {
   "cell_type": "code",
   "execution_count": 30,
   "metadata": {},
   "outputs": [],
   "source": [
    "X_train=X_train.astype('float32')\n",
    "X_test = X_test.astype('float32')"
   ]
  },
  {
   "cell_type": "code",
   "execution_count": 31,
   "metadata": {},
   "outputs": [
    {
     "name": "stdout",
     "output_type": "stream",
     "text": [
      "60000 train samples\n",
      "10000 test samples\n"
     ]
    }
   ],
   "source": [
    "# 입력을 [0, 1]사이로 정규화\n",
    "\n",
    "X_train /= 255\n",
    "X_test /=255\n",
    "print(X_train.shape[0], 'train samples')\n",
    "print(X_test.shape[0], 'test samples')"
   ]
  },
  {
   "cell_type": "code",
   "execution_count": 32,
   "metadata": {},
   "outputs": [],
   "source": [
    "#테이블을 One-Hot-Encoding\n",
    "Y_train = tf.keras.utils.to_categorical(Y_train, NB_CLASSES)\n",
    "Y_test = tf.keras.utils.to_categorical(Y_test, NB_CLASSES)"
   ]
  },
  {
   "cell_type": "markdown",
   "metadata": {},
   "source": [
    "## 모델 구축"
   ]
  },
  {
   "cell_type": "code",
   "execution_count": 33,
   "metadata": {},
   "outputs": [],
   "source": [
    "model = tf.keras.models.Sequential()\n",
    "model.add(keras.layers.Dense(NB_CLASSES,\n",
    "                            input_shape=(RESHAPED,),\n",
    "                            name='dense_layer',\n",
    "                            activation='relu'))\n",
    "model.add(keras.layers.Dropout(DROPOUT))\n",
    "model.add(keras.layers.Dense(NB_CLASSES,                    \n",
    "                            name='dense_layer_2',\n",
    "                            activation='relu'))\n",
    "model.add(keras.layers.Dropout(DROPOUT))\n",
    "model.add(keras.layers.Dense(NB_CLASSES,                    \n",
    "                            name='dense_layer_3',\n",
    "                            activation='softmax'))"
   ]
  },
  {
   "cell_type": "markdown",
   "metadata": {},
   "source": [
    "## 모델 요약"
   ]
  },
  {
   "cell_type": "code",
   "execution_count": 34,
   "metadata": {},
   "outputs": [
    {
     "name": "stdout",
     "output_type": "stream",
     "text": [
      "Model: \"sequential_2\"\n",
      "_________________________________________________________________\n",
      "Layer (type)                 Output Shape              Param #   \n",
      "=================================================================\n",
      "dense_layer (Dense)          (None, 10)                7850      \n",
      "_________________________________________________________________\n",
      "dropout (Dropout)            (None, 10)                0         \n",
      "_________________________________________________________________\n",
      "dense_layer_2 (Dense)        (None, 10)                110       \n",
      "_________________________________________________________________\n",
      "dropout_1 (Dropout)          (None, 10)                0         \n",
      "_________________________________________________________________\n",
      "dense_layer_3 (Dense)        (None, 10)                110       \n",
      "=================================================================\n",
      "Total params: 8,070\n",
      "Trainable params: 8,070\n",
      "Non-trainable params: 0\n",
      "_________________________________________________________________\n"
     ]
    }
   ],
   "source": [
    "model.summary()"
   ]
  },
  {
   "cell_type": "markdown",
   "metadata": {},
   "source": [
    "## 모델 컴파일"
   ]
  },
  {
   "cell_type": "code",
   "execution_count": 35,
   "metadata": {},
   "outputs": [],
   "source": [
    "model.compile(optimizer='SGD',\n",
    "              loss='categorical_crossentropy',\n",
    "              metrics=['accuracy'])"
   ]
  },
  {
   "cell_type": "markdown",
   "metadata": {},
   "source": [
    "## 모델 훈련"
   ]
  },
  {
   "cell_type": "code",
   "execution_count": 36,
   "metadata": {},
   "outputs": [
    {
     "name": "stdout",
     "output_type": "stream",
     "text": [
      "Epoch 1/200\n",
      "375/375 [==============================] - 1s 1ms/step - loss: 2.1624 - accuracy: 0.2064 - val_loss: 1.9067 - val_accuracy: 0.4906\n",
      "Epoch 2/200\n",
      "375/375 [==============================] - 0s 1ms/step - loss: 1.8967 - accuracy: 0.3203 - val_loss: 1.5808 - val_accuracy: 0.6008\n",
      "Epoch 3/200\n",
      "375/375 [==============================] - 0s 1ms/step - loss: 1.7278 - accuracy: 0.3767 - val_loss: 1.3691 - val_accuracy: 0.6848\n",
      "Epoch 4/200\n",
      "375/375 [==============================] - 0s 1ms/step - loss: 1.6168 - accuracy: 0.4081 - val_loss: 1.2151 - val_accuracy: 0.7172\n",
      "Epoch 5/200\n",
      "375/375 [==============================] - 0s 1ms/step - loss: 1.5517 - accuracy: 0.4209 - val_loss: 1.1256 - val_accuracy: 0.7406\n",
      "Epoch 6/200\n",
      "375/375 [==============================] - 0s 1ms/step - loss: 1.4932 - accuracy: 0.4425 - val_loss: 1.0478 - val_accuracy: 0.7538\n",
      "Epoch 7/200\n",
      "375/375 [==============================] - 0s 1ms/step - loss: 1.4377 - accuracy: 0.4649 - val_loss: 0.9913 - val_accuracy: 0.7694\n",
      "Epoch 8/200\n",
      "375/375 [==============================] - 0s 1ms/step - loss: 1.3992 - accuracy: 0.4756 - val_loss: 0.9356 - val_accuracy: 0.7843\n",
      "Epoch 9/200\n",
      "375/375 [==============================] - 0s 1ms/step - loss: 1.3577 - accuracy: 0.4937 - val_loss: 0.8982 - val_accuracy: 0.7987\n",
      "Epoch 10/200\n",
      "375/375 [==============================] - 0s 1ms/step - loss: 1.3279 - accuracy: 0.5057 - val_loss: 0.8618 - val_accuracy: 0.8116\n",
      "Epoch 11/200\n",
      "375/375 [==============================] - 0s 1ms/step - loss: 1.3090 - accuracy: 0.5176 - val_loss: 0.8296 - val_accuracy: 0.8219\n",
      "Epoch 12/200\n",
      "375/375 [==============================] - 0s 1ms/step - loss: 1.2832 - accuracy: 0.5255 - val_loss: 0.7976 - val_accuracy: 0.8258\n",
      "Epoch 13/200\n",
      "375/375 [==============================] - 0s 1ms/step - loss: 1.2660 - accuracy: 0.5350 - val_loss: 0.7804 - val_accuracy: 0.8347\n",
      "Epoch 14/200\n",
      "375/375 [==============================] - ETA: 0s - loss: 1.2599 - accuracy: 0.53 - 0s 1ms/step - loss: 1.2595 - accuracy: 0.5390 - val_loss: 0.7613 - val_accuracy: 0.8394\n",
      "Epoch 15/200\n",
      "375/375 [==============================] - 0s 1ms/step - loss: 1.2444 - accuracy: 0.5430 - val_loss: 0.7431 - val_accuracy: 0.8407\n",
      "Epoch 16/200\n",
      "375/375 [==============================] - 0s 1ms/step - loss: 1.2282 - accuracy: 0.5537 - val_loss: 0.7303 - val_accuracy: 0.8461\n",
      "Epoch 17/200\n",
      "375/375 [==============================] - 0s 1ms/step - loss: 1.2282 - accuracy: 0.5514 - val_loss: 0.7250 - val_accuracy: 0.8503\n",
      "Epoch 18/200\n",
      "375/375 [==============================] - 0s 1ms/step - loss: 1.2183 - accuracy: 0.5608 - val_loss: 0.7122 - val_accuracy: 0.8553\n",
      "Epoch 19/200\n",
      "375/375 [==============================] - 0s 1ms/step - loss: 1.2017 - accuracy: 0.5638 - val_loss: 0.6934 - val_accuracy: 0.8566\n",
      "Epoch 20/200\n",
      "375/375 [==============================] - 0s 1ms/step - loss: 1.2003 - accuracy: 0.5675 - val_loss: 0.6845 - val_accuracy: 0.8575\n",
      "Epoch 21/200\n",
      "375/375 [==============================] - 0s 1ms/step - loss: 1.1980 - accuracy: 0.5683 - val_loss: 0.6753 - val_accuracy: 0.8596\n",
      "Epoch 22/200\n",
      "375/375 [==============================] - 0s 1ms/step - loss: 1.1850 - accuracy: 0.5712 - val_loss: 0.6693 - val_accuracy: 0.8592\n",
      "Epoch 23/200\n",
      "375/375 [==============================] - 0s 1ms/step - loss: 1.1795 - accuracy: 0.5736 - val_loss: 0.6601 - val_accuracy: 0.8638\n",
      "Epoch 24/200\n",
      "375/375 [==============================] - 0s 1ms/step - loss: 1.1761 - accuracy: 0.5739 - val_loss: 0.6539 - val_accuracy: 0.8642\n",
      "Epoch 25/200\n",
      "375/375 [==============================] - 0s 1ms/step - loss: 1.1730 - accuracy: 0.5738 - val_loss: 0.6465 - val_accuracy: 0.8670\n",
      "Epoch 26/200\n",
      "375/375 [==============================] - 0s 1ms/step - loss: 1.1709 - accuracy: 0.5777 - val_loss: 0.6466 - val_accuracy: 0.8687\n",
      "Epoch 27/200\n",
      "375/375 [==============================] - 0s 1ms/step - loss: 1.1661 - accuracy: 0.5750 - val_loss: 0.6423 - val_accuracy: 0.8669\n",
      "Epoch 28/200\n",
      "375/375 [==============================] - 0s 1ms/step - loss: 1.1448 - accuracy: 0.5845 - val_loss: 0.6346 - val_accuracy: 0.8674\n",
      "Epoch 29/200\n",
      "375/375 [==============================] - 0s 1ms/step - loss: 1.1564 - accuracy: 0.5780 - val_loss: 0.6298 - val_accuracy: 0.8714\n",
      "Epoch 30/200\n",
      "375/375 [==============================] - 0s 1ms/step - loss: 1.1463 - accuracy: 0.5839 - val_loss: 0.6288 - val_accuracy: 0.8704\n",
      "Epoch 31/200\n",
      "375/375 [==============================] - 0s 1ms/step - loss: 1.1507 - accuracy: 0.5821 - val_loss: 0.6235 - val_accuracy: 0.8752\n",
      "Epoch 32/200\n",
      "375/375 [==============================] - 0s 1ms/step - loss: 1.1459 - accuracy: 0.5858 - val_loss: 0.6158 - val_accuracy: 0.8731\n",
      "Epoch 33/200\n",
      "375/375 [==============================] - 0s 1ms/step - loss: 1.1354 - accuracy: 0.5890 - val_loss: 0.6103 - val_accuracy: 0.8737\n",
      "Epoch 34/200\n",
      "375/375 [==============================] - 0s 1ms/step - loss: 1.1428 - accuracy: 0.5833 - val_loss: 0.6141 - val_accuracy: 0.8751\n",
      "Epoch 35/200\n",
      "375/375 [==============================] - 0s 1ms/step - loss: 1.1398 - accuracy: 0.5879 - val_loss: 0.6110 - val_accuracy: 0.8748\n",
      "Epoch 36/200\n",
      "375/375 [==============================] - 0s 1ms/step - loss: 1.1321 - accuracy: 0.5892 - val_loss: 0.6047 - val_accuracy: 0.8771\n",
      "Epoch 37/200\n",
      "375/375 [==============================] - 0s 1ms/step - loss: 1.1334 - accuracy: 0.5904 - val_loss: 0.6001 - val_accuracy: 0.8763\n",
      "Epoch 38/200\n",
      "375/375 [==============================] - 0s 1ms/step - loss: 1.1227 - accuracy: 0.5956 - val_loss: 0.6053 - val_accuracy: 0.8776\n",
      "Epoch 39/200\n",
      "375/375 [==============================] - 0s 1ms/step - loss: 1.1256 - accuracy: 0.5944 - val_loss: 0.5941 - val_accuracy: 0.8792\n",
      "Epoch 40/200\n",
      "375/375 [==============================] - 0s 1ms/step - loss: 1.1298 - accuracy: 0.5914 - val_loss: 0.5891 - val_accuracy: 0.8800\n",
      "Epoch 41/200\n",
      "375/375 [==============================] - 0s 1ms/step - loss: 1.1142 - accuracy: 0.5962 - val_loss: 0.5929 - val_accuracy: 0.8794\n",
      "Epoch 42/200\n",
      "375/375 [==============================] - 0s 1ms/step - loss: 1.1139 - accuracy: 0.5972 - val_loss: 0.5845 - val_accuracy: 0.8806\n",
      "Epoch 43/200\n",
      "375/375 [==============================] - 0s 1ms/step - loss: 1.1207 - accuracy: 0.6002 - val_loss: 0.5857 - val_accuracy: 0.8810\n",
      "Epoch 44/200\n",
      "375/375 [==============================] - 0s 1ms/step - loss: 1.1133 - accuracy: 0.5981 - val_loss: 0.5857 - val_accuracy: 0.8827\n",
      "Epoch 45/200\n",
      "375/375 [==============================] - 0s 1ms/step - loss: 1.1111 - accuracy: 0.5994 - val_loss: 0.5746 - val_accuracy: 0.8827\n",
      "Epoch 46/200\n",
      "375/375 [==============================] - 0s 1ms/step - loss: 1.1065 - accuracy: 0.6010 - val_loss: 0.5759 - val_accuracy: 0.8835\n",
      "Epoch 47/200\n",
      "375/375 [==============================] - 0s 1ms/step - loss: 1.1016 - accuracy: 0.6048 - val_loss: 0.5705 - val_accuracy: 0.8835\n",
      "Epoch 48/200\n",
      "375/375 [==============================] - 0s 1ms/step - loss: 1.1025 - accuracy: 0.6055 - val_loss: 0.5691 - val_accuracy: 0.8844\n",
      "Epoch 49/200\n",
      "375/375 [==============================] - 0s 1ms/step - loss: 1.1057 - accuracy: 0.6056 - val_loss: 0.5690 - val_accuracy: 0.8849\n",
      "Epoch 50/200\n",
      "375/375 [==============================] - 0s 1ms/step - loss: 1.1037 - accuracy: 0.6052 - val_loss: 0.5696 - val_accuracy: 0.8838\n",
      "Epoch 51/200\n",
      "375/375 [==============================] - 0s 1ms/step - loss: 1.1024 - accuracy: 0.6054 - val_loss: 0.5629 - val_accuracy: 0.8839\n",
      "Epoch 52/200\n",
      "375/375 [==============================] - 0s 1ms/step - loss: 1.1014 - accuracy: 0.6093 - val_loss: 0.5642 - val_accuracy: 0.8852\n",
      "Epoch 53/200\n",
      "375/375 [==============================] - 0s 1ms/step - loss: 1.0935 - accuracy: 0.6128 - val_loss: 0.5609 - val_accuracy: 0.8848\n",
      "Epoch 54/200\n",
      "375/375 [==============================] - 0s 1ms/step - loss: 1.0877 - accuracy: 0.6136 - val_loss: 0.5462 - val_accuracy: 0.8859\n",
      "Epoch 55/200\n",
      "375/375 [==============================] - 0s 1ms/step - loss: 1.0860 - accuracy: 0.6135 - val_loss: 0.5547 - val_accuracy: 0.8866\n",
      "Epoch 56/200\n",
      "375/375 [==============================] - 0s 1ms/step - loss: 1.0896 - accuracy: 0.6131 - val_loss: 0.5495 - val_accuracy: 0.8871\n",
      "Epoch 57/200\n"
     ]
    },
    {
     "name": "stdout",
     "output_type": "stream",
     "text": [
      "375/375 [==============================] - 0s 1ms/step - loss: 1.0797 - accuracy: 0.6154 - val_loss: 0.5484 - val_accuracy: 0.8866\n",
      "Epoch 58/200\n",
      "375/375 [==============================] - 0s 1ms/step - loss: 1.0900 - accuracy: 0.6131 - val_loss: 0.5499 - val_accuracy: 0.8862\n",
      "Epoch 59/200\n",
      "375/375 [==============================] - 0s 1ms/step - loss: 1.0812 - accuracy: 0.6145 - val_loss: 0.5518 - val_accuracy: 0.8878\n",
      "Epoch 60/200\n",
      "375/375 [==============================] - 0s 1ms/step - loss: 1.0798 - accuracy: 0.6144 - val_loss: 0.5454 - val_accuracy: 0.8875\n",
      "Epoch 61/200\n",
      "375/375 [==============================] - 0s 1ms/step - loss: 1.0754 - accuracy: 0.6173 - val_loss: 0.5394 - val_accuracy: 0.8886\n",
      "Epoch 62/200\n",
      "375/375 [==============================] - 0s 1ms/step - loss: 1.0758 - accuracy: 0.6175 - val_loss: 0.5351 - val_accuracy: 0.8888\n",
      "Epoch 63/200\n",
      "375/375 [==============================] - 0s 1ms/step - loss: 1.0778 - accuracy: 0.6156 - val_loss: 0.5421 - val_accuracy: 0.8882\n",
      "Epoch 64/200\n",
      "375/375 [==============================] - 0s 1ms/step - loss: 1.0727 - accuracy: 0.6198 - val_loss: 0.5437 - val_accuracy: 0.8871\n",
      "Epoch 65/200\n",
      "375/375 [==============================] - 0s 1ms/step - loss: 1.0786 - accuracy: 0.6179 - val_loss: 0.5314 - val_accuracy: 0.8902\n",
      "Epoch 66/200\n",
      "375/375 [==============================] - 0s 1ms/step - loss: 1.0762 - accuracy: 0.6158 - val_loss: 0.5356 - val_accuracy: 0.8899\n",
      "Epoch 67/200\n",
      "375/375 [==============================] - 0s 1ms/step - loss: 1.0694 - accuracy: 0.6178 - val_loss: 0.5322 - val_accuracy: 0.8897\n",
      "Epoch 68/200\n",
      "375/375 [==============================] - 0s 1ms/step - loss: 1.0790 - accuracy: 0.6150 - val_loss: 0.5362 - val_accuracy: 0.8904\n",
      "Epoch 69/200\n",
      "375/375 [==============================] - 0s 1ms/step - loss: 1.0714 - accuracy: 0.6166 - val_loss: 0.5287 - val_accuracy: 0.8905\n",
      "Epoch 70/200\n",
      "375/375 [==============================] - 0s 1ms/step - loss: 1.0683 - accuracy: 0.6182 - val_loss: 0.5276 - val_accuracy: 0.8909\n",
      "Epoch 71/200\n",
      "375/375 [==============================] - 0s 1ms/step - loss: 1.0646 - accuracy: 0.6201 - val_loss: 0.5264 - val_accuracy: 0.8894\n",
      "Epoch 72/200\n",
      "375/375 [==============================] - 0s 1ms/step - loss: 1.0625 - accuracy: 0.6190 - val_loss: 0.5309 - val_accuracy: 0.8901\n",
      "Epoch 73/200\n",
      "375/375 [==============================] - 0s 1ms/step - loss: 1.0691 - accuracy: 0.6183 - val_loss: 0.5324 - val_accuracy: 0.8897\n",
      "Epoch 74/200\n",
      "375/375 [==============================] - 0s 1ms/step - loss: 1.0728 - accuracy: 0.6169 - val_loss: 0.5237 - val_accuracy: 0.8917\n",
      "Epoch 75/200\n",
      "375/375 [==============================] - 0s 1ms/step - loss: 1.0687 - accuracy: 0.6189 - val_loss: 0.5257 - val_accuracy: 0.8913\n",
      "Epoch 76/200\n",
      "375/375 [==============================] - 0s 1ms/step - loss: 1.0627 - accuracy: 0.6220 - val_loss: 0.5207 - val_accuracy: 0.8930\n",
      "Epoch 77/200\n",
      "375/375 [==============================] - 0s 1ms/step - loss: 1.0621 - accuracy: 0.6170 - val_loss: 0.5217 - val_accuracy: 0.8917\n",
      "Epoch 78/200\n",
      "375/375 [==============================] - 0s 1ms/step - loss: 1.0641 - accuracy: 0.6199 - val_loss: 0.5242 - val_accuracy: 0.8931\n",
      "Epoch 79/200\n",
      "375/375 [==============================] - 0s 1ms/step - loss: 1.0565 - accuracy: 0.6216 - val_loss: 0.5197 - val_accuracy: 0.8917\n",
      "Epoch 80/200\n",
      "375/375 [==============================] - 0s 1ms/step - loss: 1.0601 - accuracy: 0.6201 - val_loss: 0.5233 - val_accuracy: 0.8923\n",
      "Epoch 81/200\n",
      "375/375 [==============================] - 0s 1ms/step - loss: 1.0609 - accuracy: 0.6199 - val_loss: 0.5202 - val_accuracy: 0.8923\n",
      "Epoch 82/200\n",
      "375/375 [==============================] - 0s 1ms/step - loss: 1.0613 - accuracy: 0.6205 - val_loss: 0.5192 - val_accuracy: 0.8925\n",
      "Epoch 83/200\n",
      "375/375 [==============================] - 0s 1ms/step - loss: 1.0611 - accuracy: 0.6171 - val_loss: 0.5226 - val_accuracy: 0.8913\n",
      "Epoch 84/200\n",
      "375/375 [==============================] - 0s 1ms/step - loss: 1.0542 - accuracy: 0.6201 - val_loss: 0.5172 - val_accuracy: 0.8924\n",
      "Epoch 85/200\n",
      "375/375 [==============================] - 0s 1ms/step - loss: 1.0586 - accuracy: 0.6186 - val_loss: 0.5139 - val_accuracy: 0.8911\n",
      "Epoch 86/200\n",
      "375/375 [==============================] - 0s 1ms/step - loss: 1.0499 - accuracy: 0.6238 - val_loss: 0.5118 - val_accuracy: 0.8914\n",
      "Epoch 87/200\n",
      "375/375 [==============================] - 0s 1ms/step - loss: 1.0563 - accuracy: 0.6204 - val_loss: 0.5204 - val_accuracy: 0.8904\n",
      "Epoch 88/200\n",
      "375/375 [==============================] - 0s 1ms/step - loss: 1.0522 - accuracy: 0.6236 - val_loss: 0.5106 - val_accuracy: 0.8920\n",
      "Epoch 89/200\n",
      "375/375 [==============================] - 0s 1ms/step - loss: 1.0546 - accuracy: 0.6217 - val_loss: 0.5167 - val_accuracy: 0.8917\n",
      "Epoch 90/200\n",
      "375/375 [==============================] - 0s 1ms/step - loss: 1.0507 - accuracy: 0.6223 - val_loss: 0.5068 - val_accuracy: 0.8935\n",
      "Epoch 91/200\n",
      "375/375 [==============================] - 0s 1ms/step - loss: 1.0526 - accuracy: 0.6192 - val_loss: 0.5152 - val_accuracy: 0.8923\n",
      "Epoch 92/200\n",
      "375/375 [==============================] - 0s 1ms/step - loss: 1.0476 - accuracy: 0.6228 - val_loss: 0.5156 - val_accuracy: 0.8920\n",
      "Epoch 93/200\n",
      "375/375 [==============================] - 0s 1ms/step - loss: 1.0500 - accuracy: 0.6226 - val_loss: 0.5110 - val_accuracy: 0.8922\n",
      "Epoch 94/200\n",
      "375/375 [==============================] - 0s 1ms/step - loss: 1.0528 - accuracy: 0.6206 - val_loss: 0.5078 - val_accuracy: 0.8931\n",
      "Epoch 95/200\n",
      "375/375 [==============================] - 0s 1ms/step - loss: 1.0470 - accuracy: 0.6224 - val_loss: 0.5153 - val_accuracy: 0.8933\n",
      "Epoch 96/200\n",
      "375/375 [==============================] - 0s 1ms/step - loss: 1.0497 - accuracy: 0.6223 - val_loss: 0.5135 - val_accuracy: 0.8913\n",
      "Epoch 97/200\n",
      "375/375 [==============================] - 0s 1ms/step - loss: 1.0400 - accuracy: 0.6248 - val_loss: 0.5069 - val_accuracy: 0.8932\n",
      "Epoch 98/200\n",
      "375/375 [==============================] - 0s 1ms/step - loss: 1.0485 - accuracy: 0.6215 - val_loss: 0.5097 - val_accuracy: 0.8912\n",
      "Epoch 99/200\n",
      "375/375 [==============================] - 0s 1ms/step - loss: 1.0396 - accuracy: 0.6257 - val_loss: 0.5026 - val_accuracy: 0.8937\n",
      "Epoch 100/200\n",
      "375/375 [==============================] - 0s 1ms/step - loss: 1.0418 - accuracy: 0.6237 - val_loss: 0.5092 - val_accuracy: 0.8915\n",
      "Epoch 101/200\n",
      "375/375 [==============================] - 0s 1ms/step - loss: 1.0361 - accuracy: 0.6262 - val_loss: 0.5085 - val_accuracy: 0.8924\n",
      "Epoch 102/200\n",
      "375/375 [==============================] - 0s 1ms/step - loss: 1.0460 - accuracy: 0.6213 - val_loss: 0.5067 - val_accuracy: 0.8927\n",
      "Epoch 103/200\n",
      "375/375 [==============================] - 0s 1ms/step - loss: 1.0482 - accuracy: 0.6217 - val_loss: 0.5113 - val_accuracy: 0.8928\n",
      "Epoch 104/200\n",
      "375/375 [==============================] - 0s 1ms/step - loss: 1.0374 - accuracy: 0.6256 - val_loss: 0.5080 - val_accuracy: 0.8931\n",
      "Epoch 105/200\n",
      "375/375 [==============================] - 0s 1ms/step - loss: 1.0336 - accuracy: 0.6258 - val_loss: 0.5026 - val_accuracy: 0.8929\n",
      "Epoch 106/200\n",
      "375/375 [==============================] - 0s 1ms/step - loss: 1.0418 - accuracy: 0.6264 - val_loss: 0.5048 - val_accuracy: 0.8925\n",
      "Epoch 107/200\n",
      "375/375 [==============================] - 0s 1ms/step - loss: 1.0388 - accuracy: 0.6265 - val_loss: 0.5050 - val_accuracy: 0.8932\n",
      "Epoch 108/200\n",
      "375/375 [==============================] - 0s 1ms/step - loss: 1.0312 - accuracy: 0.6290 - val_loss: 0.5029 - val_accuracy: 0.8932\n",
      "Epoch 109/200\n",
      "375/375 [==============================] - 0s 1ms/step - loss: 1.0298 - accuracy: 0.6292 - val_loss: 0.4958 - val_accuracy: 0.8936\n",
      "Epoch 110/200\n",
      "375/375 [==============================] - 0s 1ms/step - loss: 1.0379 - accuracy: 0.6242 - val_loss: 0.5025 - val_accuracy: 0.8917\n",
      "Epoch 111/200\n",
      "375/375 [==============================] - 0s 1ms/step - loss: 1.0368 - accuracy: 0.6265 - val_loss: 0.5017 - val_accuracy: 0.8928\n",
      "Epoch 112/200\n",
      "375/375 [==============================] - 0s 1ms/step - loss: 1.0360 - accuracy: 0.6294 - val_loss: 0.4998 - val_accuracy: 0.8938\n",
      "Epoch 113/200\n",
      "375/375 [==============================] - 0s 1ms/step - loss: 1.0332 - accuracy: 0.6274 - val_loss: 0.5045 - val_accuracy: 0.8903\n"
     ]
    },
    {
     "name": "stdout",
     "output_type": "stream",
     "text": [
      "Epoch 114/200\n",
      "375/375 [==============================] - 0s 1ms/step - loss: 1.0297 - accuracy: 0.6285 - val_loss: 0.4980 - val_accuracy: 0.8932\n",
      "Epoch 115/200\n",
      "375/375 [==============================] - 0s 1ms/step - loss: 1.0339 - accuracy: 0.6280 - val_loss: 0.5028 - val_accuracy: 0.8942\n",
      "Epoch 116/200\n",
      "375/375 [==============================] - 0s 1ms/step - loss: 1.0282 - accuracy: 0.6308 - val_loss: 0.5053 - val_accuracy: 0.8913\n",
      "Epoch 117/200\n",
      "375/375 [==============================] - 0s 1ms/step - loss: 1.0331 - accuracy: 0.6280 - val_loss: 0.4962 - val_accuracy: 0.8941\n",
      "Epoch 118/200\n",
      "375/375 [==============================] - 0s 1ms/step - loss: 1.0282 - accuracy: 0.6286 - val_loss: 0.4984 - val_accuracy: 0.8938\n",
      "Epoch 119/200\n",
      "375/375 [==============================] - 0s 1ms/step - loss: 1.0278 - accuracy: 0.6290 - val_loss: 0.4980 - val_accuracy: 0.8937\n",
      "Epoch 120/200\n",
      "375/375 [==============================] - 0s 1ms/step - loss: 1.0256 - accuracy: 0.6310 - val_loss: 0.4976 - val_accuracy: 0.8928\n",
      "Epoch 121/200\n",
      "375/375 [==============================] - 0s 1ms/step - loss: 1.0311 - accuracy: 0.6277 - val_loss: 0.5010 - val_accuracy: 0.8941\n",
      "Epoch 122/200\n",
      "375/375 [==============================] - 0s 1ms/step - loss: 1.0255 - accuracy: 0.6319 - val_loss: 0.4951 - val_accuracy: 0.8931\n",
      "Epoch 123/200\n",
      "375/375 [==============================] - 0s 1ms/step - loss: 1.0290 - accuracy: 0.6293 - val_loss: 0.4971 - val_accuracy: 0.8932\n",
      "Epoch 124/200\n",
      "375/375 [==============================] - 0s 1ms/step - loss: 1.0261 - accuracy: 0.6333 - val_loss: 0.4954 - val_accuracy: 0.8934\n",
      "Epoch 125/200\n",
      "375/375 [==============================] - 0s 1ms/step - loss: 1.0236 - accuracy: 0.6326 - val_loss: 0.4926 - val_accuracy: 0.8943\n",
      "Epoch 126/200\n",
      "375/375 [==============================] - 0s 1ms/step - loss: 1.0204 - accuracy: 0.6351 - val_loss: 0.4961 - val_accuracy: 0.8932\n",
      "Epoch 127/200\n",
      "375/375 [==============================] - 0s 1ms/step - loss: 1.0196 - accuracy: 0.6347 - val_loss: 0.4947 - val_accuracy: 0.8932\n",
      "Epoch 128/200\n",
      "375/375 [==============================] - 0s 1ms/step - loss: 1.0236 - accuracy: 0.6345 - val_loss: 0.4968 - val_accuracy: 0.8927\n",
      "Epoch 129/200\n",
      "375/375 [==============================] - 0s 1ms/step - loss: 1.0227 - accuracy: 0.6330 - val_loss: 0.4992 - val_accuracy: 0.8917\n",
      "Epoch 130/200\n",
      "375/375 [==============================] - 0s 1ms/step - loss: 1.0225 - accuracy: 0.6349 - val_loss: 0.5024 - val_accuracy: 0.8916\n",
      "Epoch 131/200\n",
      "375/375 [==============================] - 0s 1ms/step - loss: 1.0215 - accuracy: 0.6369 - val_loss: 0.4977 - val_accuracy: 0.8926\n",
      "Epoch 132/200\n",
      "375/375 [==============================] - 0s 1ms/step - loss: 1.0134 - accuracy: 0.6379 - val_loss: 0.4997 - val_accuracy: 0.8910\n",
      "Epoch 133/200\n",
      "375/375 [==============================] - 0s 1ms/step - loss: 1.0155 - accuracy: 0.6381 - val_loss: 0.4962 - val_accuracy: 0.8928\n",
      "Epoch 134/200\n",
      "375/375 [==============================] - 0s 1ms/step - loss: 1.0152 - accuracy: 0.6402 - val_loss: 0.4987 - val_accuracy: 0.8925\n",
      "Epoch 135/200\n",
      "375/375 [==============================] - 0s 1ms/step - loss: 1.0141 - accuracy: 0.6371 - val_loss: 0.4901 - val_accuracy: 0.8938\n",
      "Epoch 136/200\n",
      "375/375 [==============================] - 0s 1ms/step - loss: 1.0196 - accuracy: 0.6375 - val_loss: 0.4961 - val_accuracy: 0.8914\n",
      "Epoch 137/200\n",
      "375/375 [==============================] - 0s 1ms/step - loss: 1.0105 - accuracy: 0.6387 - val_loss: 0.5042 - val_accuracy: 0.8907\n",
      "Epoch 138/200\n",
      "375/375 [==============================] - 0s 1ms/step - loss: 1.0093 - accuracy: 0.6419 - val_loss: 0.5012 - val_accuracy: 0.8917\n",
      "Epoch 139/200\n",
      "375/375 [==============================] - 0s 1ms/step - loss: 1.0046 - accuracy: 0.6434 - val_loss: 0.4997 - val_accuracy: 0.8915\n",
      "Epoch 140/200\n",
      "375/375 [==============================] - 0s 1ms/step - loss: 1.0043 - accuracy: 0.6464 - val_loss: 0.5000 - val_accuracy: 0.8916\n",
      "Epoch 141/200\n",
      "375/375 [==============================] - 0s 1ms/step - loss: 1.0158 - accuracy: 0.6389 - val_loss: 0.4936 - val_accuracy: 0.8917\n",
      "Epoch 142/200\n",
      "375/375 [==============================] - 0s 1ms/step - loss: 1.0058 - accuracy: 0.6441 - val_loss: 0.4974 - val_accuracy: 0.8917\n",
      "Epoch 143/200\n",
      "375/375 [==============================] - 0s 1ms/step - loss: 1.0098 - accuracy: 0.6433 - val_loss: 0.4951 - val_accuracy: 0.8929\n",
      "Epoch 144/200\n",
      "375/375 [==============================] - 0s 1ms/step - loss: 1.0119 - accuracy: 0.6417 - val_loss: 0.4983 - val_accuracy: 0.8926\n",
      "Epoch 145/200\n",
      "375/375 [==============================] - 0s 1ms/step - loss: 1.0044 - accuracy: 0.6451 - val_loss: 0.4873 - val_accuracy: 0.8929\n",
      "Epoch 146/200\n",
      "375/375 [==============================] - 0s 1ms/step - loss: 0.9985 - accuracy: 0.6486 - val_loss: 0.4930 - val_accuracy: 0.8923\n",
      "Epoch 147/200\n",
      "375/375 [==============================] - 0s 1ms/step - loss: 1.0053 - accuracy: 0.6428 - val_loss: 0.4893 - val_accuracy: 0.8930\n",
      "Epoch 148/200\n",
      "375/375 [==============================] - 0s 1ms/step - loss: 0.9987 - accuracy: 0.6467 - val_loss: 0.4939 - val_accuracy: 0.8928\n",
      "Epoch 149/200\n",
      "375/375 [==============================] - 0s 1ms/step - loss: 1.0033 - accuracy: 0.6462 - val_loss: 0.4967 - val_accuracy: 0.8921\n",
      "Epoch 150/200\n",
      "375/375 [==============================] - 0s 1ms/step - loss: 1.0028 - accuracy: 0.6479 - val_loss: 0.4884 - val_accuracy: 0.8928\n",
      "Epoch 151/200\n",
      "375/375 [==============================] - 0s 1ms/step - loss: 1.0044 - accuracy: 0.6471 - val_loss: 0.4907 - val_accuracy: 0.8922\n",
      "Epoch 152/200\n",
      "375/375 [==============================] - 0s 1ms/step - loss: 1.0038 - accuracy: 0.6464 - val_loss: 0.4902 - val_accuracy: 0.8934\n",
      "Epoch 153/200\n",
      "375/375 [==============================] - 0s 1ms/step - loss: 0.9946 - accuracy: 0.6487 - val_loss: 0.4954 - val_accuracy: 0.8927\n",
      "Epoch 154/200\n",
      "375/375 [==============================] - 0s 1ms/step - loss: 0.9968 - accuracy: 0.6478 - val_loss: 0.4900 - val_accuracy: 0.8932\n",
      "Epoch 155/200\n",
      "375/375 [==============================] - 0s 1ms/step - loss: 0.9934 - accuracy: 0.6495 - val_loss: 0.4936 - val_accuracy: 0.8925\n",
      "Epoch 156/200\n",
      "375/375 [==============================] - 0s 1ms/step - loss: 0.9937 - accuracy: 0.6500 - val_loss: 0.4970 - val_accuracy: 0.8918\n",
      "Epoch 157/200\n",
      "375/375 [==============================] - 0s 1ms/step - loss: 0.9981 - accuracy: 0.6491 - val_loss: 0.4920 - val_accuracy: 0.8916\n",
      "Epoch 158/200\n",
      "375/375 [==============================] - 0s 1ms/step - loss: 0.9914 - accuracy: 0.6470 - val_loss: 0.4941 - val_accuracy: 0.8925\n",
      "Epoch 159/200\n",
      "375/375 [==============================] - 0s 1ms/step - loss: 0.9942 - accuracy: 0.6513 - val_loss: 0.4909 - val_accuracy: 0.8934\n",
      "Epoch 160/200\n",
      "375/375 [==============================] - 0s 1ms/step - loss: 0.9921 - accuracy: 0.6515 - val_loss: 0.4913 - val_accuracy: 0.8927\n",
      "Epoch 161/200\n",
      "375/375 [==============================] - 0s 1ms/step - loss: 0.9932 - accuracy: 0.6514 - val_loss: 0.4909 - val_accuracy: 0.8925\n",
      "Epoch 162/200\n",
      "375/375 [==============================] - 0s 1ms/step - loss: 0.9936 - accuracy: 0.6522 - val_loss: 0.4897 - val_accuracy: 0.8923\n",
      "Epoch 163/200\n",
      "375/375 [==============================] - 0s 1ms/step - loss: 0.9934 - accuracy: 0.6489 - val_loss: 0.4925 - val_accuracy: 0.8928\n",
      "Epoch 164/200\n",
      "375/375 [==============================] - 0s 1ms/step - loss: 0.9955 - accuracy: 0.6507 - val_loss: 0.4877 - val_accuracy: 0.8936\n",
      "Epoch 165/200\n",
      "375/375 [==============================] - 0s 1ms/step - loss: 0.9891 - accuracy: 0.6522 - val_loss: 0.4890 - val_accuracy: 0.8917\n",
      "Epoch 166/200\n",
      "375/375 [==============================] - 0s 1ms/step - loss: 0.9945 - accuracy: 0.6521 - val_loss: 0.4882 - val_accuracy: 0.8925\n",
      "Epoch 167/200\n",
      "375/375 [==============================] - 0s 1ms/step - loss: 0.9922 - accuracy: 0.6501 - val_loss: 0.4896 - val_accuracy: 0.8924\n",
      "Epoch 168/200\n",
      "375/375 [==============================] - 0s 1ms/step - loss: 0.9929 - accuracy: 0.6536 - val_loss: 0.4887 - val_accuracy: 0.8919\n",
      "Epoch 169/200\n",
      "375/375 [==============================] - 0s 1ms/step - loss: 0.9904 - accuracy: 0.6527 - val_loss: 0.4923 - val_accuracy: 0.8907\n",
      "Epoch 170/200\n"
     ]
    },
    {
     "name": "stdout",
     "output_type": "stream",
     "text": [
      "375/375 [==============================] - 0s 1ms/step - loss: 0.9887 - accuracy: 0.6530 - val_loss: 0.4902 - val_accuracy: 0.8919\n",
      "Epoch 171/200\n",
      "375/375 [==============================] - 0s 1ms/step - loss: 0.9840 - accuracy: 0.6559 - val_loss: 0.4846 - val_accuracy: 0.8922\n",
      "Epoch 172/200\n",
      "375/375 [==============================] - 0s 1ms/step - loss: 0.9936 - accuracy: 0.6523 - val_loss: 0.4888 - val_accuracy: 0.8917\n",
      "Epoch 173/200\n",
      "375/375 [==============================] - 0s 1ms/step - loss: 0.9845 - accuracy: 0.6522 - val_loss: 0.4861 - val_accuracy: 0.8928\n",
      "Epoch 174/200\n",
      "375/375 [==============================] - 0s 1ms/step - loss: 0.9881 - accuracy: 0.6511 - val_loss: 0.4874 - val_accuracy: 0.8923\n",
      "Epoch 175/200\n",
      "375/375 [==============================] - 1s 1ms/step - loss: 0.9821 - accuracy: 0.6559 - val_loss: 0.4893 - val_accuracy: 0.8919\n",
      "Epoch 176/200\n",
      "375/375 [==============================] - 0s 1ms/step - loss: 0.9803 - accuracy: 0.6538 - val_loss: 0.4852 - val_accuracy: 0.8915\n",
      "Epoch 177/200\n",
      "375/375 [==============================] - 0s 1ms/step - loss: 0.9837 - accuracy: 0.6536 - val_loss: 0.4895 - val_accuracy: 0.8912\n",
      "Epoch 178/200\n",
      "375/375 [==============================] - 0s 1ms/step - loss: 0.9846 - accuracy: 0.6544 - val_loss: 0.4882 - val_accuracy: 0.8921\n",
      "Epoch 179/200\n",
      "375/375 [==============================] - 0s 1ms/step - loss: 0.9840 - accuracy: 0.6528 - val_loss: 0.4839 - val_accuracy: 0.8936\n",
      "Epoch 180/200\n",
      "375/375 [==============================] - 0s 1ms/step - loss: 0.9829 - accuracy: 0.6534 - val_loss: 0.4834 - val_accuracy: 0.8932\n",
      "Epoch 181/200\n",
      "375/375 [==============================] - 0s 1ms/step - loss: 0.9833 - accuracy: 0.6558 - val_loss: 0.4851 - val_accuracy: 0.8932\n",
      "Epoch 182/200\n",
      "375/375 [==============================] - 0s 1ms/step - loss: 0.9788 - accuracy: 0.6561 - val_loss: 0.4865 - val_accuracy: 0.8928\n",
      "Epoch 183/200\n",
      "375/375 [==============================] - 0s 1ms/step - loss: 0.9802 - accuracy: 0.6558 - val_loss: 0.4838 - val_accuracy: 0.8936\n",
      "Epoch 184/200\n",
      "375/375 [==============================] - 0s 1ms/step - loss: 0.9798 - accuracy: 0.6563 - val_loss: 0.4844 - val_accuracy: 0.8931\n",
      "Epoch 185/200\n",
      "375/375 [==============================] - 0s 1ms/step - loss: 0.9851 - accuracy: 0.6528 - val_loss: 0.4856 - val_accuracy: 0.8920\n",
      "Epoch 186/200\n",
      "375/375 [==============================] - 0s 1ms/step - loss: 0.9742 - accuracy: 0.6572 - val_loss: 0.4806 - val_accuracy: 0.8935\n",
      "Epoch 187/200\n",
      "375/375 [==============================] - 0s 1ms/step - loss: 0.9820 - accuracy: 0.6561 - val_loss: 0.4825 - val_accuracy: 0.8929\n",
      "Epoch 188/200\n",
      "375/375 [==============================] - 0s 1ms/step - loss: 0.9764 - accuracy: 0.6564 - val_loss: 0.4795 - val_accuracy: 0.8943\n",
      "Epoch 189/200\n",
      "375/375 [==============================] - 0s 1ms/step - loss: 0.9825 - accuracy: 0.6540 - val_loss: 0.4807 - val_accuracy: 0.8942\n",
      "Epoch 190/200\n",
      "375/375 [==============================] - 0s 1ms/step - loss: 0.9757 - accuracy: 0.6582 - val_loss: 0.4839 - val_accuracy: 0.8926\n",
      "Epoch 191/200\n",
      "375/375 [==============================] - 0s 1ms/step - loss: 0.9799 - accuracy: 0.6548 - val_loss: 0.4830 - val_accuracy: 0.8932\n",
      "Epoch 192/200\n",
      "375/375 [==============================] - 0s 1ms/step - loss: 0.9816 - accuracy: 0.6535 - val_loss: 0.4797 - val_accuracy: 0.8947\n",
      "Epoch 193/200\n",
      "375/375 [==============================] - 0s 1ms/step - loss: 0.9729 - accuracy: 0.6595 - val_loss: 0.4774 - val_accuracy: 0.8936\n",
      "Epoch 194/200\n",
      "375/375 [==============================] - 0s 1ms/step - loss: 0.9838 - accuracy: 0.6568 - val_loss: 0.4825 - val_accuracy: 0.8942\n",
      "Epoch 195/200\n",
      "375/375 [==============================] - 0s 1ms/step - loss: 0.9763 - accuracy: 0.6565 - val_loss: 0.4812 - val_accuracy: 0.8942\n",
      "Epoch 196/200\n",
      "375/375 [==============================] - 0s 1ms/step - loss: 0.9771 - accuracy: 0.6567 - val_loss: 0.4802 - val_accuracy: 0.8945\n",
      "Epoch 197/200\n",
      "375/375 [==============================] - 0s 1ms/step - loss: 0.9680 - accuracy: 0.6609 - val_loss: 0.4744 - val_accuracy: 0.8942\n",
      "Epoch 198/200\n",
      "375/375 [==============================] - 0s 1ms/step - loss: 0.9812 - accuracy: 0.6554 - val_loss: 0.4751 - val_accuracy: 0.8942\n",
      "Epoch 199/200\n",
      "375/375 [==============================] - 0s 1ms/step - loss: 0.9740 - accuracy: 0.6577 - val_loss: 0.4817 - val_accuracy: 0.8929\n",
      "Epoch 200/200\n",
      "375/375 [==============================] - 0s 1ms/step - loss: 0.9738 - accuracy: 0.6586 - val_loss: 0.4825 - val_accuracy: 0.8917\n"
     ]
    },
    {
     "data": {
      "text/plain": [
       "<tensorflow.python.keras.callbacks.History at 0x191623e5a48>"
      ]
     },
     "execution_count": 36,
     "metadata": {},
     "output_type": "execute_result"
    }
   ],
   "source": [
    "model.fit(X_train, Y_train,\n",
    "         batch_size=BATCH_SIZE, epochs=EPOCHS,\n",
    "         verbose = VERBOSE, validation_split=VARIDATTON_SPLIT)"
   ]
  },
  {
   "cell_type": "markdown",
   "metadata": {},
   "source": [
    "## 모델 평가"
   ]
  },
  {
   "cell_type": "code",
   "execution_count": 37,
   "metadata": {},
   "outputs": [
    {
     "name": "stdout",
     "output_type": "stream",
     "text": [
      "313/313 [==============================] - 0s 473us/step - loss: 0.4868 - accuracy: 0.8896\n"
     ]
    }
   ],
   "source": [
    "test_loss, test_acc = model.evaluate(X_test,Y_test)"
   ]
  },
  {
   "cell_type": "code",
   "execution_count": 38,
   "metadata": {
    "scrolled": false
   },
   "outputs": [
    {
     "name": "stdout",
     "output_type": "stream",
     "text": [
      "Test accuracy :  0.8895999789237976\n"
     ]
    }
   ],
   "source": [
    "print('Test accuracy : ',test_acc)"
   ]
  },
  {
   "cell_type": "code",
   "execution_count": null,
   "metadata": {},
   "outputs": [],
   "source": []
  }
 ],
 "metadata": {
  "kernelspec": {
   "display_name": "Python 3",
   "language": "python",
   "name": "python3"
  },
  "language_info": {
   "codemirror_mode": {
    "name": "ipython",
    "version": 3
   },
   "file_extension": ".py",
   "mimetype": "text/x-python",
   "name": "python",
   "nbconvert_exporter": "python",
   "pygments_lexer": "ipython3",
   "version": "3.7.6"
  }
 },
 "nbformat": 4,
 "nbformat_minor": 4
}
